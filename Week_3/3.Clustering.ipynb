{
 "cells": [
  {
   "cell_type": "code",
   "execution_count": null,
   "metadata": {},
   "outputs": [],
   "source": [
    "# https://medium.com/dataexplorations/focus-generating-an-interactive-legend-in-altair-9a92b5714c55\n",
    "# https://medium.com/@dougm_9851/the-battle-of-neighborhoods-coursera-ibm-capstone-project-52b4292ef410"
   ]
  },
  {
   "cell_type": "markdown",
   "metadata": {},
   "source": [
    "# Cluster the neighborhoods of Toronto"
   ]
  },
  {
   "cell_type": "markdown",
   "metadata": {},
   "source": [
    "Read previously saved the neiborhood data"
   ]
  },
  {
   "cell_type": "code",
   "execution_count": 1,
   "metadata": {},
   "outputs": [],
   "source": [
    "#imports\n",
    "import numpy as np # library to handle data in a vectorized manner\n",
    "import pandas as pd # library for data analsysis\n",
    "pd.set_option('display.max_columns', None)\n",
    "pd.set_option('display.max_rows', None)\n",
    "import folium\n",
    "import altair as alt\n",
    "import geopandas as gpd\n",
    "from fiona.crs import from_epsg\n",
    "import time"
   ]
  },
  {
   "cell_type": "code",
   "execution_count": null,
   "metadata": {},
   "outputs": [],
   "source": [
    "from pyproj import Proj, transform\n",
    "\n",
    "inProj = Proj(init='epsg:3857')\n",
    "outProj = Proj(init='epsg:4326')\n",
    "x1,y1 = -11705274.6374,4826473.6922\n",
    "x2,y2 = transform(inProj,outProj,x1,y1)\n",
    "print(x2,y2)"
   ]
  },
  {
   "cell_type": "code",
   "execution_count": null,
   "metadata": {},
   "outputs": [],
   "source": [
    "import time\n",
    "start=time.time()\n",
    "x,y = -11705274.6374,4826473.6922\n",
    "p = pyproj.Proj(\"+proj=merc +lon_0=0 +k=1 +x_0=0 +y_0=0 +a=6378137 +b=6378137 +towgs84=0,0,0,0,0,0,0 +units=m +no_defs\")\n",
    "lon, lat = p(x, y, inverse=True)\n",
    "end=time.time()\n",
    "print(lat, lon)\n",
    "print('%.7f' % (end-start))"
   ]
  },
  {
   "cell_type": "markdown",
   "metadata": {},
   "source": [
    "#### Initial analysis \n",
    "How does the data look and how large is it?"
   ]
  },
  {
   "cell_type": "code",
   "execution_count": 2,
   "metadata": {},
   "outputs": [
    {
     "name": "stdout",
     "output_type": "stream",
     "text": [
      "Total rows: 103\n"
     ]
    },
    {
     "data": {
      "text/html": [
       "<div>\n",
       "<style scoped>\n",
       "    .dataframe tbody tr th:only-of-type {\n",
       "        vertical-align: middle;\n",
       "    }\n",
       "\n",
       "    .dataframe tbody tr th {\n",
       "        vertical-align: top;\n",
       "    }\n",
       "\n",
       "    .dataframe thead th {\n",
       "        text-align: right;\n",
       "    }\n",
       "</style>\n",
       "<table border=\"1\" class=\"dataframe\">\n",
       "  <thead>\n",
       "    <tr style=\"text-align: right;\">\n",
       "      <th></th>\n",
       "      <th>Postcode</th>\n",
       "      <th>Borough</th>\n",
       "      <th>Neighbourhood</th>\n",
       "      <th>latlng</th>\n",
       "      <th>Latitude</th>\n",
       "      <th>Longitude</th>\n",
       "    </tr>\n",
       "  </thead>\n",
       "  <tbody>\n",
       "    <tr>\n",
       "      <th>0</th>\n",
       "      <td>M1B</td>\n",
       "      <td>Scarborough</td>\n",
       "      <td>Rouge,Malvern</td>\n",
       "      <td>43.653963;-79.387207</td>\n",
       "      <td>43.653963</td>\n",
       "      <td>-79.387207</td>\n",
       "    </tr>\n",
       "    <tr>\n",
       "      <th>1</th>\n",
       "      <td>M1C</td>\n",
       "      <td>Scarborough</td>\n",
       "      <td>Highland Creek,Rouge Hill,Port Union</td>\n",
       "      <td>43.653963;-79.387207</td>\n",
       "      <td>43.653963</td>\n",
       "      <td>-79.387207</td>\n",
       "    </tr>\n",
       "  </tbody>\n",
       "</table>\n",
       "</div>"
      ],
      "text/plain": [
       "  Postcode      Borough                         Neighbourhood  \\\n",
       "0      M1B  Scarborough                         Rouge,Malvern   \n",
       "1      M1C  Scarborough  Highland Creek,Rouge Hill,Port Union   \n",
       "\n",
       "                 latlng   Latitude  Longitude  \n",
       "0  43.653963;-79.387207  43.653963 -79.387207  \n",
       "1  43.653963;-79.387207  43.653963 -79.387207  "
      ]
     },
     "execution_count": 2,
     "metadata": {},
     "output_type": "execute_result"
    }
   ],
   "source": [
    "df = pd.read_csv('./data/toronto_neighborhoods.csv', sep=';')\n",
    "print('Total rows: {}'.format(df.shape[0]))\n",
    "df.head(2)"
   ]
  },
  {
   "cell_type": "markdown",
   "metadata": {},
   "source": [
    "#### We need neighborhood granularity, so split the 'Neighborhood' column into separate values\n",
    "\n",
    "Select only the most important columns for this (Postcode, Neighborhood) and create an intermediate dataframe with unique Postcode-Neighborhood entries on each row. \n",
    "\n",
    "Then join this row with the inital dataframe to also have the coordinates info"
   ]
  },
  {
   "cell_type": "code",
   "execution_count": null,
   "metadata": {},
   "outputs": [],
   "source": [
    "df_1 = df[['Postcode', 'Neighbourhood']]\n",
    "df_1 = pd.DataFrame(df_1.Neighbourhood.str.split(',').tolist(), index=df_1.Postcode).stack()\n",
    "df_1 = df_1.reset_index([0, 'Postcode']).rename(columns={0:'Neighbourhood'})\n",
    "cols = ['Postcode', 'Borough', 'Latitude', 'Longitude']\n",
    "df = pd.merge(df[cols], df_1, on='Postcode', how='inner')\n",
    "print('Total rows: {}'.format(df.shape[0]))\n",
    "df.head()"
   ]
  },
  {
   "cell_type": "code",
   "execution_count": null,
   "metadata": {},
   "outputs": [],
   "source": [
    "shape_df = pd.read_csv('./data/toronto_shapefile.csv')\n",
    "shape_df.head(1)"
   ]
  },
  {
   "cell_type": "code",
   "execution_count": null,
   "metadata": {},
   "outputs": [],
   "source": []
  },
  {
   "cell_type": "code",
   "execution_count": null,
   "metadata": {},
   "outputs": [],
   "source": [
    "cols = ['AREA_NAME', 'geometry']\n",
    "shape_json_df = shape_df[cols]\n",
    "\n",
    "shape_json_df['geometry1'] = shape_json_df['geometry'].apply(lambda x: x.replace(\"\\'\", \"\\\"\"))\n",
    "\n",
    "shape_json_df['geometry2'] = shape_json_df['geometry1'].apply(lambda x: x.replace(\"u\\\"\", \"\\\"\"))\n",
    "shape_json_df['geometry2'] = shape_json_df['geometry2'].apply(lambda x: x.replace(\"(\", \"[\"))\n",
    "shape_json_df['geometry2'] = shape_json_df['geometry2'].apply(lambda x: x.replace(\")\", \"]\"))\n",
    "\n",
    "shape_json_df1 = shape_json_df[['AREA_NAME', 'geometry2']]\n",
    "shape_json_df1.rename(columns={'geometry2':'geometry'}, inplace=True)\n",
    "\n",
    "shape_json_df2 = shape_json_df1.set_index('AREA_NAME')\n",
    "shape_json_df3 = shape_json_df2.to_json()\n",
    "\n",
    "shape_json_df2.head(2)"
   ]
  },
  {
   "cell_type": "code",
   "execution_count": 3,
   "metadata": {},
   "outputs": [
    {
     "data": {
      "text/html": [
       "<div>\n",
       "<style scoped>\n",
       "    .dataframe tbody tr th:only-of-type {\n",
       "        vertical-align: middle;\n",
       "    }\n",
       "\n",
       "    .dataframe tbody tr th {\n",
       "        vertical-align: top;\n",
       "    }\n",
       "\n",
       "    .dataframe thead th {\n",
       "        text-align: right;\n",
       "    }\n",
       "</style>\n",
       "<table border=\"1\" class=\"dataframe\">\n",
       "  <thead>\n",
       "    <tr style=\"text-align: right;\">\n",
       "      <th></th>\n",
       "      <th>AREA_CODE</th>\n",
       "      <th>AREA_NAME</th>\n",
       "      <th>geometry</th>\n",
       "    </tr>\n",
       "  </thead>\n",
       "  <tbody>\n",
       "    <tr>\n",
       "      <th>0</th>\n",
       "      <td>097</td>\n",
       "      <td>Yonge-St.Clair (97)</td>\n",
       "      <td>POLYGON ((629662.0703489644 4837487.488926678,...</td>\n",
       "    </tr>\n",
       "    <tr>\n",
       "      <th>1</th>\n",
       "      <td>027</td>\n",
       "      <td>York University Heights (27)</td>\n",
       "      <td>POLYGON ((620308.0167449361 4846066.457439966,...</td>\n",
       "    </tr>\n",
       "  </tbody>\n",
       "</table>\n",
       "</div>"
      ],
      "text/plain": [
       "  AREA_CODE                     AREA_NAME  \\\n",
       "0       097           Yonge-St.Clair (97)   \n",
       "1       027  York University Heights (27)   \n",
       "\n",
       "                                            geometry  \n",
       "0  POLYGON ((629662.0703489644 4837487.488926678,...  \n",
       "1  POLYGON ((620308.0167449361 4846066.457439966,...  "
      ]
     },
     "execution_count": 3,
     "metadata": {},
     "output_type": "execute_result"
    }
   ],
   "source": [
    "shape_df = gpd.read_file('./data/toronto_neighbourhoods_shape/NEIGHBOURHOODS_UTM6.shp')\n",
    "shape_df.head(2)"
   ]
  },
  {
   "cell_type": "code",
   "execution_count": null,
   "metadata": {},
   "outputs": [],
   "source": [
    "import pyproj    \n",
    "import shapely\n",
    "import shapely.ops as ops\n",
    "from shapely.geometry.polygon import Polygon\n",
    "from functools import partial\n",
    "\n",
    "\n",
    "geom = shape_df.iloc[0].geometry\n",
    "geom_area = ops.transform(\n",
    "    partial(\n",
    "        pyproj.transform,\n",
    "        pyproj.Proj(init='EPSG:4326'),\n",
    "        pyproj.Proj(\n",
    "            proj='aea',\n",
    "            lat1=geom.bounds[1],\n",
    "            lat2=geom.bounds[3])),\n",
    "    geom)\n",
    "\n",
    "# Print the area in m^2\n",
    "print(geom_area.area)\n"
   ]
  },
  {
   "cell_type": "code",
   "execution_count": null,
   "metadata": {},
   "outputs": [],
   "source": [
    "test = test.to_crs({'init': 'epsg:4326'})\n",
    "test.plot()"
   ]
  },
  {
   "cell_type": "code",
   "execution_count": null,
   "metadata": {},
   "outputs": [],
   "source": [
    "test = shape_df.head()\n",
    "test['geometry'] = test['geometry'].to_crs({'init': 'epsg:4326'})"
   ]
  },
  {
   "cell_type": "code",
   "execution_count": null,
   "metadata": {},
   "outputs": [],
   "source": [
    "#shape_df['Neighburhood'] = shape_df['AREA_NAME'].apply(lambda x: x.split(' (')[0])\n",
    "import ast\n",
    "shape_json = ast.literal_eval(shape_df.to_json())\n",
    "\n",
    "shape_json"
   ]
  },
  {
   "cell_type": "code",
   "execution_count": null,
   "metadata": {},
   "outputs": [],
   "source": [
    "m = folium.Map([43.651070, -79.347015], zoom_start=12, control_scale=True)\n",
    "folium.GeoJson(shape_json_df3).add_to(m)\n",
    "m"
   ]
  },
  {
   "cell_type": "code",
   "execution_count": null,
   "metadata": {},
   "outputs": [],
   "source": [
    "shape_json_df2"
   ]
  },
  {
   "cell_type": "code",
   "execution_count": null,
   "metadata": {},
   "outputs": [],
   "source": [
    "import json\n",
    "import requests\n",
    "\n",
    "\n",
    "url = 'https://raw.githubusercontent.com/python-visualization/folium/master/examples/data'\n",
    "us_states = f'{url}/us-states.json'\n",
    "\n",
    "geo_json_data = json.loads(requests.get(us_states).text)\n",
    "m = folium.Map([43, -100], zoom_start=4)\n",
    "\n",
    "folium.GeoJson(geo_json_data).add_to(m)\n",
    "\n",
    "m"
   ]
  },
  {
   "cell_type": "code",
   "execution_count": null,
   "metadata": {},
   "outputs": [],
   "source": [
    "geo_json_data"
   ]
  },
  {
   "cell_type": "code",
   "execution_count": null,
   "metadata": {},
   "outputs": [],
   "source": [
    "import proj4\n",
    "proj4.__version__"
   ]
  },
  {
   "cell_type": "code",
   "execution_count": null,
   "metadata": {},
   "outputs": [],
   "source": []
  }
 ],
 "metadata": {
  "kernelspec": {
   "display_name": "Python 3",
   "language": "python",
   "name": "python3"
  },
  "language_info": {
   "codemirror_mode": {
    "name": "ipython",
    "version": 3
   },
   "file_extension": ".py",
   "mimetype": "text/x-python",
   "name": "python",
   "nbconvert_exporter": "python",
   "pygments_lexer": "ipython3",
   "version": "3.6.8"
  }
 },
 "nbformat": 4,
 "nbformat_minor": 2
}
