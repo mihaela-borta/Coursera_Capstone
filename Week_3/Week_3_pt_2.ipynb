{
 "cells": [
  {
   "cell_type": "markdown",
   "metadata": {},
   "source": [
    "## Get the latitude and longitude of Toronto's neighbourhoods"
   ]
  },
  {
   "cell_type": "code",
   "execution_count": 1,
   "metadata": {},
   "outputs": [],
   "source": [
    "import pandas as pd\n",
    "from opencage.geocoder import OpenCageGeocode\n",
    "from pprint import pprint\n",
    "import os"
   ]
  },
  {
   "cell_type": "code",
   "execution_count": 2,
   "metadata": {},
   "outputs": [],
   "source": [
    "key = 'e72498be68814d2bb71995226221d6fa'\n",
    "\n",
    "#key = os.environ['OPENCAGE_KEY']\n",
    "geocoder = OpenCageGeocode(key)"
   ]
  },
  {
   "cell_type": "markdown",
   "metadata": {},
   "source": [
    "#### Test that reverse geocoding works"
   ]
  },
  {
   "cell_type": "code",
   "execution_count": 3,
   "metadata": {},
   "outputs": [
    {
     "name": "stdout",
     "output_type": "stream",
     "text": [
      "[{'annotations': {'DMS': {'lat': \"44° 49' 49.11132'' N\",\n",
      "                          'lng': \"0° 34' 34.28796'' E\"},\n",
      "                  'MGRS': '30TXQ9159666958',\n",
      "                  'Maidenhead': 'IN94rt09ug',\n",
      "                  'Mercator': {'x': -64141.3, 'y': 5564710.789},\n",
      "                  'OSM': {'edit_url': 'https://www.openstreetmap.org/edit?node=2754853042#map=17/44.83031/-0.57619',\n",
      "                          'url': 'https://www.openstreetmap.org/?mlat=44.83031&mlon=-0.57619#map=17/44.83031/-0.57619'},\n",
      "                  'UN_M49': {'regions': {'EUROPE': '150',\n",
      "                                         'FR': '250',\n",
      "                                         'WESTERN_EUROPE': '155',\n",
      "                                         'WORLD': '001'},\n",
      "                             'statistical_groupings': ['MEDC']},\n",
      "                  'callingcode': 33,\n",
      "                  'currency': {'alternate_symbols': [],\n",
      "                               'decimal_mark': ',',\n",
      "                               'html_entity': '&#x20AC;',\n",
      "                               'iso_code': 'EUR',\n",
      "                               'iso_numeric': '978',\n",
      "                               'name': 'Euro',\n",
      "                               'smallest_denomination': 1,\n",
      "                               'subunit': 'Cent',\n",
      "                               'subunit_to_unit': 100,\n",
      "                               'symbol': '€',\n",
      "                               'symbol_first': 1,\n",
      "                               'thousands_separator': '.'},\n",
      "                  'flag': '🇫🇷',\n",
      "                  'geohash': 'ezzx4ch7mz0zbyftcpdf',\n",
      "                  'qibla': 111.75,\n",
      "                  'roadinfo': {'drive_on': 'right',\n",
      "                               'road': 'Rue Sauteyron',\n",
      "                               'speed_in': 'km/h'},\n",
      "                  'sun': {'rise': {'apparent': 1560658560,\n",
      "                                   'astronomical': 1560649440,\n",
      "                                   'civil': 1560656280,\n",
      "                                   'nautical': 1560653340},\n",
      "                          'set': {'apparent': 1560714660,\n",
      "                                  'astronomical': 1560723720,\n",
      "                                  'civil': 1560716880,\n",
      "                                  'nautical': 1560719820}},\n",
      "                  'timezone': {'name': 'Europe/Paris',\n",
      "                               'now_in_dst': 1,\n",
      "                               'offset_sec': 7200,\n",
      "                               'offset_string': '+0200',\n",
      "                               'short_name': 'CEST'},\n",
      "                  'what3words': {'words': 'advice.quiet.surveyed'}},\n",
      "  'bounds': {'northeast': {'lat': 44.8304087, 'lng': -0.5760911},\n",
      "             'southwest': {'lat': 44.8302087, 'lng': -0.5762911}},\n",
      "  'components': {'ISO_3166-1_alpha-2': 'FR',\n",
      "                 'ISO_3166-1_alpha-3': 'FRA',\n",
      "                 '_type': 'building',\n",
      "                 'city': 'Bordeaux',\n",
      "                 'continent': 'Europe',\n",
      "                 'country': 'France',\n",
      "                 'country_code': 'fr',\n",
      "                 'county': 'Bordeaux',\n",
      "                 'house_number': '11',\n",
      "                 'political_union': 'European Union',\n",
      "                 'postcode': '33000',\n",
      "                 'road': 'Rue Sauteyron',\n",
      "                 'state': 'New Aquitaine',\n",
      "                 'state_district': 'Gironde',\n",
      "                 'suburb': 'Bordeaux Sud'},\n",
      "  'confidence': 10,\n",
      "  'formatted': '11 Rue Sauteyron, 33000 Bordeaux, France',\n",
      "  'geometry': {'lat': 44.8303087, 'lng': -0.5761911}}]\n"
     ]
    }
   ],
   "source": [
    "results = geocoder.reverse_geocode(44.8303087, -0.5761911)\n",
    "pprint(results)"
   ]
  },
  {
   "cell_type": "markdown",
   "metadata": {},
   "source": [
    "#### Test that geocoding works "
   ]
  },
  {
   "cell_type": "code",
   "execution_count": 4,
   "metadata": {},
   "outputs": [
    {
     "name": "stdout",
     "output_type": "stream",
     "text": [
      "43.656400;-79.386000;ca;America/Toronto\n"
     ]
    }
   ],
   "source": [
    "postal_code = 'M5G'\n",
    "results = geocoder.geocode('{}, Toronto, Ontario'.format(postal_code))\n",
    "print(u'%f;%f;%s;%s' % (results[0]['geometry']['lat'], \n",
    "                        results[0]['geometry']['lng'],\n",
    "                        results[0]['components']['country_code'],\n",
    "                        results[0]['annotations']['timezone']['name']))\n"
   ]
  },
  {
   "cell_type": "markdown",
   "metadata": {},
   "source": [
    "#### Read the data containing the postcodes, borough and neighbourhood information for Toronto"
   ]
  },
  {
   "cell_type": "code",
   "execution_count": 5,
   "metadata": {},
   "outputs": [
    {
     "data": {
      "text/html": [
       "<div>\n",
       "<style scoped>\n",
       "    .dataframe tbody tr th:only-of-type {\n",
       "        vertical-align: middle;\n",
       "    }\n",
       "\n",
       "    .dataframe tbody tr th {\n",
       "        vertical-align: top;\n",
       "    }\n",
       "\n",
       "    .dataframe thead th {\n",
       "        text-align: right;\n",
       "    }\n",
       "</style>\n",
       "<table border=\"1\" class=\"dataframe\">\n",
       "  <thead>\n",
       "    <tr style=\"text-align: right;\">\n",
       "      <th></th>\n",
       "      <th>Postcode</th>\n",
       "      <th>Borough</th>\n",
       "      <th>Neighbourhood</th>\n",
       "    </tr>\n",
       "  </thead>\n",
       "  <tbody>\n",
       "    <tr>\n",
       "      <th>0</th>\n",
       "      <td>M1B</td>\n",
       "      <td>Scarborough</td>\n",
       "      <td>Rouge,Malvern</td>\n",
       "    </tr>\n",
       "    <tr>\n",
       "      <th>1</th>\n",
       "      <td>M1C</td>\n",
       "      <td>Scarborough</td>\n",
       "      <td>Highland Creek,Rouge Hill,Port Union</td>\n",
       "    </tr>\n",
       "    <tr>\n",
       "      <th>2</th>\n",
       "      <td>M1E</td>\n",
       "      <td>Scarborough</td>\n",
       "      <td>Guildwood,Morningside,West Hill</td>\n",
       "    </tr>\n",
       "    <tr>\n",
       "      <th>3</th>\n",
       "      <td>M1G</td>\n",
       "      <td>Scarborough</td>\n",
       "      <td>Woburn</td>\n",
       "    </tr>\n",
       "    <tr>\n",
       "      <th>4</th>\n",
       "      <td>M1H</td>\n",
       "      <td>Scarborough</td>\n",
       "      <td>Cedarbrae</td>\n",
       "    </tr>\n",
       "  </tbody>\n",
       "</table>\n",
       "</div>"
      ],
      "text/plain": [
       "  Postcode      Borough                         Neighbourhood\n",
       "0      M1B  Scarborough                         Rouge,Malvern\n",
       "1      M1C  Scarborough  Highland Creek,Rouge Hill,Port Union\n",
       "2      M1E  Scarborough       Guildwood,Morningside,West Hill\n",
       "3      M1G  Scarborough                                Woburn\n",
       "4      M1H  Scarborough                             Cedarbrae"
      ]
     },
     "execution_count": 5,
     "metadata": {},
     "output_type": "execute_result"
    }
   ],
   "source": [
    "df = pd.read_csv('./data/toronto_neighbourhoods.csv', sep=';')\n",
    "df.head()"
   ]
  },
  {
   "cell_type": "markdown",
   "metadata": {},
   "source": [
    "Define a function that returns the coordinates of a location given it's postal code and knowing that we are in the city of Toronto"
   ]
  },
  {
   "cell_type": "code",
   "execution_count": 6,
   "metadata": {},
   "outputs": [],
   "source": [
    "def get_latlng(row, geocoder):\n",
    "    postal_code = row.Postcode\n",
    "    results = geocoder.geocode('{}, Toronto, Ontario'.format(postal_code))\n",
    "    return ('{};{}'.format(results[0]['geometry']['lat'], results[0]['geometry']['lng'])) "
   ]
  },
  {
   "cell_type": "code",
   "execution_count": 7,
   "metadata": {},
   "outputs": [
    {
     "data": {
      "text/html": [
       "<div>\n",
       "<style scoped>\n",
       "    .dataframe tbody tr th:only-of-type {\n",
       "        vertical-align: middle;\n",
       "    }\n",
       "\n",
       "    .dataframe tbody tr th {\n",
       "        vertical-align: top;\n",
       "    }\n",
       "\n",
       "    .dataframe thead th {\n",
       "        text-align: right;\n",
       "    }\n",
       "</style>\n",
       "<table border=\"1\" class=\"dataframe\">\n",
       "  <thead>\n",
       "    <tr style=\"text-align: right;\">\n",
       "      <th></th>\n",
       "      <th>Postcode</th>\n",
       "      <th>Borough</th>\n",
       "      <th>Neighbourhood</th>\n",
       "      <th>latlng</th>\n",
       "    </tr>\n",
       "  </thead>\n",
       "  <tbody>\n",
       "    <tr>\n",
       "      <th>0</th>\n",
       "      <td>M1B</td>\n",
       "      <td>Scarborough</td>\n",
       "      <td>Rouge,Malvern</td>\n",
       "      <td>43.653963;-79.387207</td>\n",
       "    </tr>\n",
       "    <tr>\n",
       "      <th>1</th>\n",
       "      <td>M1C</td>\n",
       "      <td>Scarborough</td>\n",
       "      <td>Highland Creek,Rouge Hill,Port Union</td>\n",
       "      <td>43.653963;-79.387207</td>\n",
       "    </tr>\n",
       "    <tr>\n",
       "      <th>2</th>\n",
       "      <td>M1E</td>\n",
       "      <td>Scarborough</td>\n",
       "      <td>Guildwood,Morningside,West Hill</td>\n",
       "      <td>43.7678;-79.1866</td>\n",
       "    </tr>\n",
       "    <tr>\n",
       "      <th>3</th>\n",
       "      <td>M1G</td>\n",
       "      <td>Scarborough</td>\n",
       "      <td>Woburn</td>\n",
       "      <td>43.7657168;-79.2218984</td>\n",
       "    </tr>\n",
       "    <tr>\n",
       "      <th>4</th>\n",
       "      <td>M1H</td>\n",
       "      <td>Scarborough</td>\n",
       "      <td>Cedarbrae</td>\n",
       "      <td>43.7686;-79.2389</td>\n",
       "    </tr>\n",
       "  </tbody>\n",
       "</table>\n",
       "</div>"
      ],
      "text/plain": [
       "  Postcode      Borough                         Neighbourhood  \\\n",
       "0      M1B  Scarborough                         Rouge,Malvern   \n",
       "1      M1C  Scarborough  Highland Creek,Rouge Hill,Port Union   \n",
       "2      M1E  Scarborough       Guildwood,Morningside,West Hill   \n",
       "3      M1G  Scarborough                                Woburn   \n",
       "4      M1H  Scarborough                             Cedarbrae   \n",
       "\n",
       "                   latlng  \n",
       "0    43.653963;-79.387207  \n",
       "1    43.653963;-79.387207  \n",
       "2        43.7678;-79.1866  \n",
       "3  43.7657168;-79.2218984  \n",
       "4        43.7686;-79.2389  "
      ]
     },
     "execution_count": 7,
     "metadata": {},
     "output_type": "execute_result"
    }
   ],
   "source": [
    "df['latlng'] = df.apply(get_latlng, axis=1, args=(geocoder,))\n",
    "df.head()"
   ]
  },
  {
   "cell_type": "markdown",
   "metadata": {},
   "source": [
    "#### Split the latitude and Longitude into separate columns"
   ]
  },
  {
   "cell_type": "code",
   "execution_count": 8,
   "metadata": {},
   "outputs": [],
   "source": [
    "df['Latitude'] = df['latlng'].apply(lambda x: x.split(';')[0])\n",
    "df['Longitude'] = df['latlng'].apply(lambda x: x.split(';')[1])"
   ]
  },
  {
   "cell_type": "code",
   "execution_count": 9,
   "metadata": {},
   "outputs": [
    {
     "data": {
      "text/html": [
       "<div>\n",
       "<style scoped>\n",
       "    .dataframe tbody tr th:only-of-type {\n",
       "        vertical-align: middle;\n",
       "    }\n",
       "\n",
       "    .dataframe tbody tr th {\n",
       "        vertical-align: top;\n",
       "    }\n",
       "\n",
       "    .dataframe thead th {\n",
       "        text-align: right;\n",
       "    }\n",
       "</style>\n",
       "<table border=\"1\" class=\"dataframe\">\n",
       "  <thead>\n",
       "    <tr style=\"text-align: right;\">\n",
       "      <th></th>\n",
       "      <th>Postcode</th>\n",
       "      <th>Borough</th>\n",
       "      <th>Neighbourhood</th>\n",
       "      <th>latlng</th>\n",
       "      <th>Latitude</th>\n",
       "      <th>Longitude</th>\n",
       "    </tr>\n",
       "  </thead>\n",
       "  <tbody>\n",
       "    <tr>\n",
       "      <th>0</th>\n",
       "      <td>M1B</td>\n",
       "      <td>Scarborough</td>\n",
       "      <td>Rouge,Malvern</td>\n",
       "      <td>43.653963;-79.387207</td>\n",
       "      <td>43.653963</td>\n",
       "      <td>-79.387207</td>\n",
       "    </tr>\n",
       "    <tr>\n",
       "      <th>1</th>\n",
       "      <td>M1C</td>\n",
       "      <td>Scarborough</td>\n",
       "      <td>Highland Creek,Rouge Hill,Port Union</td>\n",
       "      <td>43.653963;-79.387207</td>\n",
       "      <td>43.653963</td>\n",
       "      <td>-79.387207</td>\n",
       "    </tr>\n",
       "    <tr>\n",
       "      <th>2</th>\n",
       "      <td>M1E</td>\n",
       "      <td>Scarborough</td>\n",
       "      <td>Guildwood,Morningside,West Hill</td>\n",
       "      <td>43.7678;-79.1866</td>\n",
       "      <td>43.7678</td>\n",
       "      <td>-79.1866</td>\n",
       "    </tr>\n",
       "    <tr>\n",
       "      <th>3</th>\n",
       "      <td>M1G</td>\n",
       "      <td>Scarborough</td>\n",
       "      <td>Woburn</td>\n",
       "      <td>43.7657168;-79.2218984</td>\n",
       "      <td>43.7657168</td>\n",
       "      <td>-79.2218984</td>\n",
       "    </tr>\n",
       "    <tr>\n",
       "      <th>4</th>\n",
       "      <td>M1H</td>\n",
       "      <td>Scarborough</td>\n",
       "      <td>Cedarbrae</td>\n",
       "      <td>43.7686;-79.2389</td>\n",
       "      <td>43.7686</td>\n",
       "      <td>-79.2389</td>\n",
       "    </tr>\n",
       "  </tbody>\n",
       "</table>\n",
       "</div>"
      ],
      "text/plain": [
       "  Postcode      Borough                         Neighbourhood  \\\n",
       "0      M1B  Scarborough                         Rouge,Malvern   \n",
       "1      M1C  Scarborough  Highland Creek,Rouge Hill,Port Union   \n",
       "2      M1E  Scarborough       Guildwood,Morningside,West Hill   \n",
       "3      M1G  Scarborough                                Woburn   \n",
       "4      M1H  Scarborough                             Cedarbrae   \n",
       "\n",
       "                   latlng    Latitude    Longitude  \n",
       "0    43.653963;-79.387207   43.653963   -79.387207  \n",
       "1    43.653963;-79.387207   43.653963   -79.387207  \n",
       "2        43.7678;-79.1866     43.7678     -79.1866  \n",
       "3  43.7657168;-79.2218984  43.7657168  -79.2218984  \n",
       "4        43.7686;-79.2389     43.7686     -79.2389  "
      ]
     },
     "execution_count": 9,
     "metadata": {},
     "output_type": "execute_result"
    }
   ],
   "source": [
    "df.head()"
   ]
  },
  {
   "cell_type": "code",
   "execution_count": 10,
   "metadata": {},
   "outputs": [
    {
     "data": {
      "text/html": [
       "<div>\n",
       "<style scoped>\n",
       "    .dataframe tbody tr th:only-of-type {\n",
       "        vertical-align: middle;\n",
       "    }\n",
       "\n",
       "    .dataframe tbody tr th {\n",
       "        vertical-align: top;\n",
       "    }\n",
       "\n",
       "    .dataframe thead th {\n",
       "        text-align: right;\n",
       "    }\n",
       "</style>\n",
       "<table border=\"1\" class=\"dataframe\">\n",
       "  <thead>\n",
       "    <tr style=\"text-align: right;\">\n",
       "      <th></th>\n",
       "      <th>Postcode</th>\n",
       "      <th>Borough</th>\n",
       "      <th>Neighbourhood</th>\n",
       "      <th>latlng</th>\n",
       "      <th>Latitude</th>\n",
       "      <th>Longitude</th>\n",
       "    </tr>\n",
       "  </thead>\n",
       "  <tbody>\n",
       "    <tr>\n",
       "      <th>57</th>\n",
       "      <td>M5G</td>\n",
       "      <td>Downtown Toronto</td>\n",
       "      <td>Central Bay Street</td>\n",
       "      <td>43.6564;-79.386</td>\n",
       "      <td>43.6564</td>\n",
       "      <td>-79.386</td>\n",
       "    </tr>\n",
       "  </tbody>\n",
       "</table>\n",
       "</div>"
      ],
      "text/plain": [
       "   Postcode           Borough       Neighbourhood           latlng Latitude  \\\n",
       "57      M5G  Downtown Toronto  Central Bay Street  43.6564;-79.386  43.6564   \n",
       "\n",
       "   Longitude  \n",
       "57   -79.386  "
      ]
     },
     "execution_count": 10,
     "metadata": {},
     "output_type": "execute_result"
    }
   ],
   "source": [
    "df[df['Postcode']=='M5G'].head()"
   ]
  },
  {
   "cell_type": "markdown",
   "metadata": {},
   "source": [
    "# Backup for further use"
   ]
  },
  {
   "cell_type": "code",
   "execution_count": 11,
   "metadata": {},
   "outputs": [],
   "source": [
    "df.to_csv('./data/toronto_neighborhoods.csv', index=False, sep=';')"
   ]
  }
 ],
 "metadata": {
  "kernelspec": {
   "display_name": "Python 3",
   "language": "python",
   "name": "python3"
  },
  "language_info": {
   "codemirror_mode": {
    "name": "ipython",
    "version": 3
   },
   "file_extension": ".py",
   "mimetype": "text/x-python",
   "name": "python",
   "nbconvert_exporter": "python",
   "pygments_lexer": "ipython3",
   "version": "3.6.8"
  }
 },
 "nbformat": 4,
 "nbformat_minor": 4
}
