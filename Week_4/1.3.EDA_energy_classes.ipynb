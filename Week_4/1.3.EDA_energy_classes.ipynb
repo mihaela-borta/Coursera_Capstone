{
 "cells": [
  {
   "cell_type": "markdown",
   "metadata": {},
   "source": [
    "## Energy Label Classification\n",
    "\n",
    "### Consolidating the collected information - Part 2"
   ]
  },
  {
   "cell_type": "markdown",
   "metadata": {},
   "source": [
    "We saw previously that we are mainly interested in the __features__ column from the CSV we created out of the HTT requests. \n",
    "\n",
    "Look into the respective column more closely and make sure we're discarding as much junk as possible."
   ]
  },
  {
   "cell_type": "code",
   "execution_count": 1,
   "metadata": {},
   "outputs": [],
   "source": [
    "from datetime import datetime\n",
    "import time\n",
    "\n",
    "import multiprocessing as mp\n",
    "import os\n",
    "import ast\n",
    "import json\n",
    "\n",
    "import utils\n",
    "\n",
    "import pandas as pd\n",
    "pd.set_option('display.max_rows', 500)\n",
    "pd.set_option('display.max_columns', 500)\n",
    "pd.set_option('display.width', 1000)\n",
    "pd.set_option('display.max_colwidth', 500)\n",
    "import pandas_explode \n",
    "pandas_explode.patch() # adds a `df.explode` method to all DataFrames "
   ]
  },
  {
   "cell_type": "code",
   "execution_count": 2,
   "metadata": {},
   "outputs": [
    {
     "data": {
      "text/html": [
       "<div>\n",
       "<style scoped>\n",
       "    .dataframe tbody tr th:only-of-type {\n",
       "        vertical-align: middle;\n",
       "    }\n",
       "\n",
       "    .dataframe tbody tr th {\n",
       "        vertical-align: top;\n",
       "    }\n",
       "\n",
       "    .dataframe thead th {\n",
       "        text-align: right;\n",
       "    }\n",
       "</style>\n",
       "<table border=\"1\" class=\"dataframe\">\n",
       "  <thead>\n",
       "    <tr style=\"text-align: right;\">\n",
       "      <th></th>\n",
       "      <th>initial_index</th>\n",
       "      <th>features</th>\n",
       "    </tr>\n",
       "  </thead>\n",
       "  <tbody>\n",
       "    <tr>\n",
       "      <th>38213</th>\n",
       "      <td>616</td>\n",
       "      <td>[]</td>\n",
       "    </tr>\n",
       "  </tbody>\n",
       "</table>\n",
       "</div>"
      ],
      "text/plain": [
       "       initial_index features\n",
       "38213            616       []"
      ]
     },
     "execution_count": 2,
     "metadata": {},
     "output_type": "execute_result"
    }
   ],
   "source": [
    "energy_cls_file = os.path.join(os.getcwd(), 'data', 'energy_classes.csv')\n",
    "energy_cls = pd.read_csv(energy_cls_file)\n",
    "\n",
    "energy_cls.columns = ['initial_index', 'features']\n",
    "energy_cls.tail(1)"
   ]
  },
  {
   "cell_type": "code",
   "execution_count": 3,
   "metadata": {},
   "outputs": [
    {
     "data": {
      "text/plain": [
       "initial_index     int64\n",
       "features         object\n",
       "dtype: object"
      ]
     },
     "execution_count": 3,
     "metadata": {},
     "output_type": "execute_result"
    }
   ],
   "source": [
    "energy_cls.dtypes"
   ]
  },
  {
   "cell_type": "code",
   "execution_count": 6,
   "metadata": {},
   "outputs": [
    {
     "data": {
      "text/plain": [
       "(15034, 2)"
      ]
     },
     "execution_count": 6,
     "metadata": {},
     "output_type": "execute_result"
    }
   ],
   "source": [
    "energy_cls = energy_cls[energy_cls['features']!='[]']\n",
    "energy_cls.shape"
   ]
  },
  {
   "cell_type": "code",
   "execution_count": 14,
   "metadata": {},
   "outputs": [
    {
     "data": {
      "text/plain": [
       "(14992, 3)"
      ]
     },
     "execution_count": 14,
     "metadata": {},
     "output_type": "execute_result"
    }
   ],
   "source": [
    "energy_cls['features_len'] = energy_cls['features'].apply(lambda x: len(str(x)))\n",
    "energy_cls = energy_cls[energy_cls['features_len']>4]\n",
    "energy_cls.shape"
   ]
  },
  {
   "cell_type": "code",
   "execution_count": 15,
   "metadata": {},
   "outputs": [],
   "source": [
    "energy_cls['features'] = energy_cls['features'].apply(lambda x: ast.literal_eval(x))"
   ]
  },
  {
   "cell_type": "code",
   "execution_count": 16,
   "metadata": {},
   "outputs": [
    {
     "name": "stdout",
     "output_type": "stream",
     "text": [
      "0:00:18.845139\n"
     ]
    }
   ],
   "source": [
    "start = datetime.now()\n",
    "energy_cls.drop(columns=['features_len'], inplace=True)\n",
    "energy_cls_new = energy_cls.explode('features')\n",
    "print(datetime.now()-start)"
   ]
  },
  {
   "cell_type": "code",
   "execution_count": 19,
   "metadata": {},
   "outputs": [
    {
     "data": {
      "text/html": [
       "<div>\n",
       "<style scoped>\n",
       "    .dataframe tbody tr th:only-of-type {\n",
       "        vertical-align: middle;\n",
       "    }\n",
       "\n",
       "    .dataframe tbody tr th {\n",
       "        vertical-align: top;\n",
       "    }\n",
       "\n",
       "    .dataframe thead th {\n",
       "        text-align: right;\n",
       "    }\n",
       "</style>\n",
       "<table border=\"1\" class=\"dataframe\">\n",
       "  <thead>\n",
       "    <tr style=\"text-align: right;\">\n",
       "      <th></th>\n",
       "      <th>initial_index</th>\n",
       "      <th>features</th>\n",
       "    </tr>\n",
       "  </thead>\n",
       "  <tbody>\n",
       "    <tr>\n",
       "      <th>29</th>\n",
       "      <td>30</td>\n",
       "      <td>{'type': 'Feature', 'id': '311107437', 'geometry': {'type': 'Point', 'coordinates': [12.485715793863, 55.628707247245]}, 'properties': {'EnergyLabelClassification': {'value': 'C'}, 'StreetName': {'value': 'Lille Friheden'}, 'HouseNumber': {'value': '1'}, 'ZipCode': {'value': '2650'}, 'CityName': {'value': 'Hvidovre'}, 'BBRUseCode': {'label': 'Type', 'value': 'Bygning til hotel, restaurant, vaskeri, frisør og anden servicevirksomhed'}, 'YearOfConstruction': {'label': 'Opført', 'value': '2003'...</td>\n",
       "    </tr>\n",
       "    <tr>\n",
       "      <th>29</th>\n",
       "      <td>30</td>\n",
       "      <td>{'type': 'Feature', 'id': '311248286', 'geometry': {'type': 'Point', 'coordinates': [12.484573114953, 55.627651771051]}, 'properties': {'EnergyLabelClassification': {'value': 'E'}, 'StreetName': {'value': 'Strandmarksvej'}, 'HouseNumber': {'value': '20'}, 'ZipCode': {'value': '2650'}, 'CityName': {'value': 'Hvidovre'}, 'BBRUseCode': {'label': 'Type', 'value': 'Bygning til handel, lager, kontor m.v.'}, 'YearOfConstruction': {'label': 'Opført', 'value': '1968'}, 'HeatSupply': {'label': 'Varme'...</td>\n",
       "    </tr>\n",
       "    <tr>\n",
       "      <th>29</th>\n",
       "      <td>30</td>\n",
       "      <td>{'type': 'Feature', 'id': '311365116', 'geometry': {'type': 'Point', 'coordinates': [12.485618025402, 55.62814356202]}, 'properties': {'EnergyLabelClassification': {'value': 'A'}, 'StreetName': {'value': 'Strandmarksvej'}, 'HouseNumber': {'value': '40'}, 'ZipCode': {'value': '2650'}, 'CityName': {'value': 'Hvidovre'}, 'BBRUseCode': {'label': 'Type', 'value': 'Etageejendom'}, 'YearOfConstruction': {'label': 'Opført', 'value': '1961, 1961, 1961, 1961, 1962, 1962, 1962, 1962, 1962, 1962, 1962, ...</td>\n",
       "    </tr>\n",
       "    <tr>\n",
       "      <th>30</th>\n",
       "      <td>31</td>\n",
       "      <td>{'type': 'Feature', 'id': '311107437', 'geometry': {'type': 'Point', 'coordinates': [12.485715793863, 55.628707247245]}, 'properties': {'EnergyLabelClassification': {'value': 'C'}, 'StreetName': {'value': 'Lille Friheden'}, 'HouseNumber': {'value': '1'}, 'ZipCode': {'value': '2650'}, 'CityName': {'value': 'Hvidovre'}, 'BBRUseCode': {'label': 'Type', 'value': 'Bygning til hotel, restaurant, vaskeri, frisør og anden servicevirksomhed'}, 'YearOfConstruction': {'label': 'Opført', 'value': '2003'...</td>\n",
       "    </tr>\n",
       "    <tr>\n",
       "      <th>30</th>\n",
       "      <td>31</td>\n",
       "      <td>{'type': 'Feature', 'id': '311365116', 'geometry': {'type': 'Point', 'coordinates': [12.485618025402, 55.62814356202]}, 'properties': {'EnergyLabelClassification': {'value': 'A'}, 'StreetName': {'value': 'Strandmarksvej'}, 'HouseNumber': {'value': '40'}, 'ZipCode': {'value': '2650'}, 'CityName': {'value': 'Hvidovre'}, 'BBRUseCode': {'label': 'Type', 'value': 'Etageejendom'}, 'YearOfConstruction': {'label': 'Opført', 'value': '1961, 1961, 1961, 1961, 1962, 1962, 1962, 1962, 1962, 1962, 1962, ...</td>\n",
       "    </tr>\n",
       "  </tbody>\n",
       "</table>\n",
       "</div>"
      ],
      "text/plain": [
       "    initial_index                                                                                                                                                                                                                                                                                                                                                                                                                                                                                                             features\n",
       "29             30  {'type': 'Feature', 'id': '311107437', 'geometry': {'type': 'Point', 'coordinates': [12.485715793863, 55.628707247245]}, 'properties': {'EnergyLabelClassification': {'value': 'C'}, 'StreetName': {'value': 'Lille Friheden'}, 'HouseNumber': {'value': '1'}, 'ZipCode': {'value': '2650'}, 'CityName': {'value': 'Hvidovre'}, 'BBRUseCode': {'label': 'Type', 'value': 'Bygning til hotel, restaurant, vaskeri, frisør og anden servicevirksomhed'}, 'YearOfConstruction': {'label': 'Opført', 'value': '2003'...\n",
       "29             30  {'type': 'Feature', 'id': '311248286', 'geometry': {'type': 'Point', 'coordinates': [12.484573114953, 55.627651771051]}, 'properties': {'EnergyLabelClassification': {'value': 'E'}, 'StreetName': {'value': 'Strandmarksvej'}, 'HouseNumber': {'value': '20'}, 'ZipCode': {'value': '2650'}, 'CityName': {'value': 'Hvidovre'}, 'BBRUseCode': {'label': 'Type', 'value': 'Bygning til handel, lager, kontor m.v.'}, 'YearOfConstruction': {'label': 'Opført', 'value': '1968'}, 'HeatSupply': {'label': 'Varme'...\n",
       "29             30  {'type': 'Feature', 'id': '311365116', 'geometry': {'type': 'Point', 'coordinates': [12.485618025402, 55.62814356202]}, 'properties': {'EnergyLabelClassification': {'value': 'A'}, 'StreetName': {'value': 'Strandmarksvej'}, 'HouseNumber': {'value': '40'}, 'ZipCode': {'value': '2650'}, 'CityName': {'value': 'Hvidovre'}, 'BBRUseCode': {'label': 'Type', 'value': 'Etageejendom'}, 'YearOfConstruction': {'label': 'Opført', 'value': '1961, 1961, 1961, 1961, 1962, 1962, 1962, 1962, 1962, 1962, 1962, ...\n",
       "30             31  {'type': 'Feature', 'id': '311107437', 'geometry': {'type': 'Point', 'coordinates': [12.485715793863, 55.628707247245]}, 'properties': {'EnergyLabelClassification': {'value': 'C'}, 'StreetName': {'value': 'Lille Friheden'}, 'HouseNumber': {'value': '1'}, 'ZipCode': {'value': '2650'}, 'CityName': {'value': 'Hvidovre'}, 'BBRUseCode': {'label': 'Type', 'value': 'Bygning til hotel, restaurant, vaskeri, frisør og anden servicevirksomhed'}, 'YearOfConstruction': {'label': 'Opført', 'value': '2003'...\n",
       "30             31  {'type': 'Feature', 'id': '311365116', 'geometry': {'type': 'Point', 'coordinates': [12.485618025402, 55.62814356202]}, 'properties': {'EnergyLabelClassification': {'value': 'A'}, 'StreetName': {'value': 'Strandmarksvej'}, 'HouseNumber': {'value': '40'}, 'ZipCode': {'value': '2650'}, 'CityName': {'value': 'Hvidovre'}, 'BBRUseCode': {'label': 'Type', 'value': 'Etageejendom'}, 'YearOfConstruction': {'label': 'Opført', 'value': '1961, 1961, 1961, 1961, 1962, 1962, 1962, 1962, 1962, 1962, 1962, ..."
      ]
     },
     "execution_count": 19,
     "metadata": {},
     "output_type": "execute_result"
    }
   ],
   "source": [
    "energy_cls_new.head()"
   ]
  },
  {
   "cell_type": "markdown",
   "metadata": {},
   "source": [
    "Extract the __geometry__ piece of information from the __features__ column."
   ]
  },
  {
   "cell_type": "code",
   "execution_count": 28,
   "metadata": {},
   "outputs": [
    {
     "data": {
      "text/html": [
       "<div>\n",
       "<style scoped>\n",
       "    .dataframe tbody tr th:only-of-type {\n",
       "        vertical-align: middle;\n",
       "    }\n",
       "\n",
       "    .dataframe tbody tr th {\n",
       "        vertical-align: top;\n",
       "    }\n",
       "\n",
       "    .dataframe thead th {\n",
       "        text-align: right;\n",
       "    }\n",
       "</style>\n",
       "<table border=\"1\" class=\"dataframe\">\n",
       "  <thead>\n",
       "    <tr style=\"text-align: right;\">\n",
       "      <th></th>\n",
       "      <th>initial_index</th>\n",
       "      <th>features</th>\n",
       "      <th>geometry</th>\n",
       "    </tr>\n",
       "  </thead>\n",
       "  <tbody>\n",
       "    <tr>\n",
       "      <th>29</th>\n",
       "      <td>30</td>\n",
       "      <td>{'type': 'Feature', 'id': '311107437', 'geometry': {'type': 'Point', 'coordinates': [12.485715793863, 55.628707247245]}, 'properties': {'EnergyLabelClassification': {'value': 'C'}, 'StreetName': {'value': 'Lille Friheden'}, 'HouseNumber': {'value': '1'}, 'ZipCode': {'value': '2650'}, 'CityName': {'value': 'Hvidovre'}, 'BBRUseCode': {'label': 'Type', 'value': 'Bygning til hotel, restaurant, vaskeri, frisør og anden servicevirksomhed'}, 'YearOfConstruction': {'label': 'Opført', 'value': '2003'...</td>\n",
       "      <td>{'type': 'Point', 'coordinates': [12.485715793863, 55.628707247245]}</td>\n",
       "    </tr>\n",
       "  </tbody>\n",
       "</table>\n",
       "</div>"
      ],
      "text/plain": [
       "    initial_index                                                                                                                                                                                                                                                                                                                                                                                                                                                                                                             features                                                              geometry\n",
       "29             30  {'type': 'Feature', 'id': '311107437', 'geometry': {'type': 'Point', 'coordinates': [12.485715793863, 55.628707247245]}, 'properties': {'EnergyLabelClassification': {'value': 'C'}, 'StreetName': {'value': 'Lille Friheden'}, 'HouseNumber': {'value': '1'}, 'ZipCode': {'value': '2650'}, 'CityName': {'value': 'Hvidovre'}, 'BBRUseCode': {'label': 'Type', 'value': 'Bygning til hotel, restaurant, vaskeri, frisør og anden servicevirksomhed'}, 'YearOfConstruction': {'label': 'Opført', 'value': '2003'...  {'type': 'Point', 'coordinates': [12.485715793863, 55.628707247245]}"
      ]
     },
     "execution_count": 28,
     "metadata": {},
     "output_type": "execute_result"
    }
   ],
   "source": [
    "energy_cls_new['geometry'] = energy_cls_new['features'].apply(lambda x: x['geometry'])\n",
    "energy_cls_new.head(1)"
   ]
  },
  {
   "cell_type": "markdown",
   "metadata": {},
   "source": [
    "#### Save the results in a file for further processing"
   ]
  },
  {
   "cell_type": "code",
   "execution_count": 30,
   "metadata": {},
   "outputs": [],
   "source": [
    "energy_cls_file_clean = os.path.join(os.getcwd(), 'data', 'energy_classes_clean.csv')\n",
    "energy_cls_new.to_csv(energy_cls_file_clean, sep=';', index=False)"
   ]
  },
  {
   "cell_type": "markdown",
   "metadata": {},
   "source": [
    "Double check the results."
   ]
  },
  {
   "cell_type": "code",
   "execution_count": 31,
   "metadata": {},
   "outputs": [
    {
     "data": {
      "text/plain": [
       "'/home/osboxes/courses/ibm/data/energy_classes_clean.csv'"
      ]
     },
     "execution_count": 31,
     "metadata": {},
     "output_type": "execute_result"
    }
   ],
   "source": [
    "os.path.join(os.getcwd(), 'data', 'energy_classes_clean.csv')"
   ]
  },
  {
   "cell_type": "code",
   "execution_count": 32,
   "metadata": {},
   "outputs": [
    {
     "name": "stdout",
     "output_type": "stream",
     "text": [
      "initial_index;features;geometry\n",
      "30;{'type': 'Feature', 'id': '311107437', 'geometry': {'type': 'Point', 'coordinates': [12.485715793863, 55.628707247245]}, 'properties': {'EnergyLabelClassification': {'value': 'C'}, 'StreetName': {'value': 'Lille Friheden'}, 'HouseNumber': {'value': '1'}, 'ZipCode': {'value': '2650'}, 'CityName': {'value': 'Hvidovre'}, 'BBRUseCode': {'label': 'Type', 'value': 'Bygning til hotel, restaurant, vaskeri, frisør og anden servicevirksomhed'}, 'YearOfConstruction': {'label': 'Opført', 'value': '2003'}, 'HeatSupply': {'label': 'Varme', 'value': 'Fjernvarme'}, 'DEMOLink': {'value': 'http://energisparebygning.dk/DEMOService.svc/PdfDocument/311107437'}}};{'type': 'Point', 'coordinates': [12.485715793863, 55.628707247245]}\n"
     ]
    }
   ],
   "source": [
    "!head -n 2 '/home/osboxes/courses/ibm/data/energy_classes_clean.csv'"
   ]
  }
 ],
 "metadata": {
  "kernelspec": {
   "display_name": "Python 3",
   "language": "python",
   "name": "python3"
  },
  "language_info": {
   "codemirror_mode": {
    "name": "ipython",
    "version": 3
   },
   "file_extension": ".py",
   "mimetype": "text/x-python",
   "name": "python",
   "nbconvert_exporter": "python",
   "pygments_lexer": "ipython3",
   "version": "3.6.7"
  }
 },
 "nbformat": 4,
 "nbformat_minor": 4
}
