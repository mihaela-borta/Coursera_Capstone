{
 "cells": [
  {
   "cell_type": "code",
   "execution_count": 46,
   "metadata": {},
   "outputs": [],
   "source": [
    "import utils\n",
    "from datetime import datetime\n",
    "import time\n",
    "\n",
    "import os\n",
    "import ast\n",
    "import json\n",
    "import requests\n",
    "import multiprocessing as mp\n",
    "\n",
    "import pandas as pd\n",
    "\n",
    "pd.set_option('display.max_rows', 500)\n",
    "pd.set_option('display.max_columns', 500)\n",
    "pd.set_option('display.width', 1000)\n",
    "pd.set_option('display.max_colwidth', 500)"
   ]
  },
  {
   "cell_type": "code",
   "execution_count": 60,
   "metadata": {},
   "outputs": [],
   "source": [
    "mydir = os.path.join(os.getcwd(), 'data', 'new', 'data')\n",
    "files = [os.path.join(mydir, f) for f in os.listdir(mydir) if os.path.isfile(os.path.join(mydir, f))]\n",
    "features_f = os.path.join(os.getcwd(), 'data', 'energy_classes.csv')"
   ]
  },
  {
   "cell_type": "code",
   "execution_count": 62,
   "metadata": {},
   "outputs": [
    {
     "name": "stdout",
     "output_type": "stream",
     "text": [
      "2019-07-17 07:06:57.187651\n",
      "[2019-07-17 07:06:57.190126]Parsing /home/osboxes/courses/Coursera_Capstone/Week_4/data/new/data/sparenergi_786.txt\n",
      "[2019-07-17 07:07:01.944924]Parsing /home/osboxes/courses/Coursera_Capstone/Week_4/data/new/data/sparenergi_6667.txt\n",
      "[2019-07-17 07:07:06.865497]Parsing /home/osboxes/courses/Coursera_Capstone/Week_4/data/new/data/sparenergi_630.txt\n",
      "[2019-07-17 07:07:11.795131]Parsing /home/osboxes/courses/Coursera_Capstone/Week_4/data/new/data/sparenergi_783.txt\n",
      "[2019-07-17 07:07:12.064087]Parsing /home/osboxes/courses/Coursera_Capstone/Week_4/data/new/data/sparenergi_629.txt\n",
      "[2019-07-17 07:07:17.152608]Parsing /home/osboxes/courses/Coursera_Capstone/Week_4/data/new/data/sparenergi_639.txt\n",
      "[2019-07-17 07:07:22.333171]Parsing /home/osboxes/courses/Coursera_Capstone/Week_4/data/new/data/sparenergi_638.txt\n",
      "[2019-07-17 07:07:25.880355]Parsing /home/osboxes/courses/Coursera_Capstone/Week_4/data/new/data/sparenergi_6672.txt\n",
      "[2019-07-17 07:07:31.918409]Parsing /home/osboxes/courses/Coursera_Capstone/Week_4/data/new/data/sparenergi_779.txt\n",
      "[2019-07-17 07:07:32.314493]Parsing /home/osboxes/courses/Coursera_Capstone/Week_4/data/new/data/sparenergi_776.txt\n",
      "[2019-07-17 07:07:40.966110]Parsing /home/osboxes/courses/Coursera_Capstone/Week_4/data/new/data/sparenergi_785.txt\n",
      "[2019-07-17 07:07:46.308313]Parsing /home/osboxes/courses/Coursera_Capstone/Week_4/data/new/data/sparenergi_778.txt\n",
      "[2019-07-17 07:07:51.536472]Parsing /home/osboxes/courses/Coursera_Capstone/Week_4/data/new/data/sparenergi_777.txt\n",
      "[2019-07-17 07:07:51.725278]Parsing /home/osboxes/courses/Coursera_Capstone/Week_4/data/new/data/sparenergi_6665.txt\n",
      "[2019-07-17 07:08:00.671671]Parsing /home/osboxes/courses/Coursera_Capstone/Week_4/data/new/data/sparenergi_6746.txt\n",
      "[2019-07-17 07:08:12.617601]Parsing /home/osboxes/courses/Coursera_Capstone/Week_4/data/new/data/sparenergi_644.txt\n",
      "[2019-07-17 07:08:16.600995]Parsing /home/osboxes/courses/Coursera_Capstone/Week_4/data/new/data/sparenergi_6756.txt\n",
      "[2019-07-17 07:08:21.707947]Parsing /home/osboxes/courses/Coursera_Capstone/Week_4/data/new/data/sparenergi_789.txt\n",
      "[2019-07-17 07:08:29.951690]Parsing /home/osboxes/courses/Coursera_Capstone/Week_4/data/new/data/sparenergi_643.txt\n",
      "[2019-07-17 07:08:43.737234]Parsing /home/osboxes/courses/Coursera_Capstone/Week_4/data/new/data/sparenergi_6748.txt\n",
      "[2019-07-17 07:08:48.388781]Parsing /home/osboxes/courses/Coursera_Capstone/Week_4/data/new/data/sparenergi_788.txt\n",
      "[2019-07-17 07:08:52.028695]Parsing /home/osboxes/courses/Coursera_Capstone/Week_4/data/new/data/sparenergi_6674.txt\n",
      "[2019-07-17 07:08:57.860485]Parsing /home/osboxes/courses/Coursera_Capstone/Week_4/data/new/data/sparenergi_636.txt\n",
      "[2019-07-17 07:09:03.288837]Parsing /home/osboxes/courses/Coursera_Capstone/Week_4/data/new/data/sparenergi_6757.txt\n",
      "[2019-07-17 07:09:09.402553]Parsing /home/osboxes/courses/Coursera_Capstone/Week_4/data/new/data/sparenergi_6671.txt\n",
      "[2019-07-17 07:09:16.876307]Parsing /home/osboxes/courses/Coursera_Capstone/Week_4/data/new/data/sparenergi_6660.txt\n",
      "[2019-07-17 07:09:25.761167]Parsing /home/osboxes/courses/Coursera_Capstone/Week_4/data/new/data/sparenergi_6664.txt\n",
      "[2019-07-17 07:09:34.256237]Parsing /home/osboxes/courses/Coursera_Capstone/Week_4/data/new/data/sparenergi_6750.txt\n",
      "[2019-07-17 07:09:41.188360]Parsing /home/osboxes/courses/Coursera_Capstone/Week_4/data/new/data/sparenergi_633.txt\n",
      "[2019-07-17 07:09:47.759876]Parsing /home/osboxes/courses/Coursera_Capstone/Week_4/data/new/data/sparenergi_6755.txt\n",
      "[2019-07-17 07:09:52.575493]Parsing /home/osboxes/courses/Coursera_Capstone/Week_4/data/new/data/sparenergi_637.txt\n",
      "[2019-07-17 07:09:56.141440]Parsing /home/osboxes/courses/Coursera_Capstone/Week_4/data/new/data/sparenergi_784.txt\n",
      "[2019-07-17 07:10:03.857554]Parsing /home/osboxes/courses/Coursera_Capstone/Week_4/data/new/data/sparenergi_6744.txt\n",
      "[2019-07-17 07:10:09.210437]Parsing /home/osboxes/courses/Coursera_Capstone/Week_4/data/new/data/sparenergi_6749.txt\n",
      "[2019-07-17 07:10:14.136373]Parsing /home/osboxes/courses/Coursera_Capstone/Week_4/data/new/data/sparenergi_642.txt\n",
      "[2019-07-17 07:10:19.041043]Parsing /home/osboxes/courses/Coursera_Capstone/Week_4/data/new/data/sparenergi_6673.txt\n",
      "[2019-07-17 07:10:23.849988]Parsing /home/osboxes/courses/Coursera_Capstone/Week_4/data/new/data/sparenergi_780.txt\n",
      "[2019-07-17 07:10:24.672810]Parsing /home/osboxes/courses/Coursera_Capstone/Week_4/data/new/data/sparenergi_6662.txt\n",
      "[2019-07-17 07:10:29.476191]Parsing /home/osboxes/courses/Coursera_Capstone/Week_4/data/new/data/sparenergi_6668.txt\n",
      "[2019-07-17 07:10:35.394092]Parsing /home/osboxes/courses/Coursera_Capstone/Week_4/data/new/data/sparenergi_6753.txt\n",
      "[2019-07-17 07:10:40.191132]Parsing /home/osboxes/courses/Coursera_Capstone/Week_4/data/new/data/sparenergi_6666.txt\n",
      "[2019-07-17 07:10:45.842463]Parsing /home/osboxes/courses/Coursera_Capstone/Week_4/data/new/data/sparenergi_791.txt\n",
      "[2019-07-17 07:10:53.600681]Parsing /home/osboxes/courses/Coursera_Capstone/Week_4/data/new/data/sparenergi_787.txt\n",
      "[2019-07-17 07:10:58.154132]Parsing /home/osboxes/courses/Coursera_Capstone/Week_4/data/new/data/sparenergi_631.txt\n",
      "[2019-07-17 07:11:03.906529]Parsing /home/osboxes/courses/Coursera_Capstone/Week_4/data/new/data/sparenergi_6661.txt\n",
      "[2019-07-17 07:11:09.251721]Parsing /home/osboxes/courses/Coursera_Capstone/Week_4/data/new/data/sparenergi_781.txt\n",
      "[2019-07-17 07:11:13.119060]Parsing /home/osboxes/courses/Coursera_Capstone/Week_4/data/new/data/sparenergi_782.txt\n",
      "[2019-07-17 07:11:20.467780]Parsing /home/osboxes/courses/Coursera_Capstone/Week_4/data/new/data/sparenergi_641.txt\n",
      "[2019-07-17 07:11:26.651467]Parsing /home/osboxes/courses/Coursera_Capstone/Week_4/data/new/data/sparenergi_6659.txt\n",
      "[2019-07-17 07:11:32.509193]Parsing /home/osboxes/courses/Coursera_Capstone/Week_4/data/new/data/sparenergi_6669.txt\n",
      "[2019-07-17 07:11:38.131864]Parsing /home/osboxes/courses/Coursera_Capstone/Week_4/data/new/data/sparenergi_640.txt\n",
      "[2019-07-17 07:11:44.203778]Parsing /home/osboxes/courses/Coursera_Capstone/Week_4/data/new/data/sparenergi_635.txt\n",
      "[2019-07-17 07:11:50.090516]Parsing /home/osboxes/courses/Coursera_Capstone/Week_4/data/new/data/sparenergi_6751.txt\n",
      "[2019-07-17 07:11:54.601969]Parsing /home/osboxes/courses/Coursera_Capstone/Week_4/data/new/data/sparenergi_6758.txt\n",
      "[2019-07-17 07:12:00.270506]Parsing /home/osboxes/courses/Coursera_Capstone/Week_4/data/new/data/sparenergi_6670.txt\n",
      "[2019-07-17 07:12:05.915314]Parsing /home/osboxes/courses/Coursera_Capstone/Week_4/data/new/data/sparenergi_632.txt\n",
      "[2019-07-17 07:12:10.775760]Parsing /home/osboxes/courses/Coursera_Capstone/Week_4/data/new/data/sparenergi_6759.txt\n",
      "[2019-07-17 07:12:15.461852]Parsing /home/osboxes/courses/Coursera_Capstone/Week_4/data/new/data/sparenergi_6747.txt\n",
      "[2019-07-17 07:12:20.385572]Parsing /home/osboxes/courses/Coursera_Capstone/Week_4/data/new/data/sparenergi_790.txt\n",
      "[2019-07-17 07:12:24.223803]Parsing /home/osboxes/courses/Coursera_Capstone/Week_4/data/new/data/sparenergi_6745.txt\n",
      "[2019-07-17 07:12:29.845593]Parsing /home/osboxes/courses/Coursera_Capstone/Week_4/data/new/data/sparenergi_6752.txt\n",
      "[2019-07-17 07:12:35.062816]Parsing /home/osboxes/courses/Coursera_Capstone/Week_4/data/new/data/sparenergi_6663.txt\n",
      "[2019-07-17 07:12:41.581940]Parsing /home/osboxes/courses/Coursera_Capstone/Week_4/data/new/data/sparenergi_634.txt\n",
      "[2019-07-17 07:12:43.896923]Parsing /home/osboxes/courses/Coursera_Capstone/Week_4/data/new/data/sparenergi_6754.txt\n",
      "0:05:51.630053\n"
     ]
    }
   ],
   "source": [
    "start = datetime.now()\n",
    "print(start)\n",
    "for j in range(len(files)):    \n",
    "    print('[{}]Parsing {}'.format(datetime.now(), files[j]))\n",
    "    contents = open(files[j], \"r\").read() \n",
    "    rows = ['{'+item+'}' for item in contents.split('}{')]\n",
    "    rows[0] = rows[0][1:]\n",
    "    rows[-1] = rows[-1][:-1]\n",
    "\n",
    "    df = pd.DataFrame()\n",
    "\n",
    "    for i in range(len(rows)):\n",
    "        rows[i] = rows[i].replace('\"', '$')\n",
    "        rows[i] = rows[i].replace(\"'\", '~')\n",
    "        rows[i] = rows[i].replace('$', \"'\")\n",
    "        rows[i] = rows[i].replace('~', '\"')\n",
    "        rows[i] = rows[i].replace('datetime.datetime(', '\"datetime.datetime(')\n",
    "        rows[i] = rows[i].replace('),', ')\",')\n",
    "\n",
    "        try:\n",
    "            d = ast.literal_eval(rows[i])\n",
    "            newdf = pd.io.json.json_normalize(d)\n",
    "            df = df.append(newdf, ignore_index=True)\n",
    "        except Exception as e:\n",
    "            print(i)\n",
    "            print(rows[i])\n",
    "            print(str(e))\n",
    "    try:\n",
    "        df['data.features'].to_csv(features_f, mode='a', header=False)\n",
    "    except Exception as e:\n",
    "        print(j)\n",
    "        print(str(e))\n",
    "        \n",
    "print(datetime.now()-start)"
   ]
  },
  {
   "cell_type": "code",
   "execution_count": 43,
   "metadata": {},
   "outputs": [
    {
     "data": {
      "text/plain": [
       "Index(['data', 'data.features', 'data.messages', 'data.response.code',\n",
       "       'data.response.message', 'data.settings', 'data.title', 'data.type',\n",
       "       'insert_tms', 'status'],\n",
       "      dtype='object')"
      ]
     },
     "execution_count": 43,
     "metadata": {},
     "output_type": "execute_result"
    }
   ],
   "source": [
    "df.columns"
   ]
  },
  {
   "cell_type": "code",
   "execution_count": 53,
   "metadata": {},
   "outputs": [],
   "source": [
    "feat = df['data.features']"
   ]
  },
  {
   "cell_type": "code",
   "execution_count": 58,
   "metadata": {},
   "outputs": [
    {
     "data": {
      "text/plain": [
       "[{'type': 'Feature',\n",
       "  'id': '200034848',\n",
       "  'geometry': {'type': 'Point',\n",
       "   'coordinates': [12.577741879431, 55.708707648189]},\n",
       "  'properties': {'EnergyLabelClassification': {'value': 'E'},\n",
       "   'StreetName': {'value': 'Østerbrogade'},\n",
       "   'HouseNumber': {'value': '154'},\n",
       "   'ZipCode': {'value': '2100'},\n",
       "   'CityName': {'value': 'København Ø'},\n",
       "   'BBRUseCode': {'label': 'Type', 'value': 'Etageejendom'},\n",
       "   'YearOfConstruction': {'label': 'Opført', 'value': '1904'},\n",
       "   'HeatSupply': {'label': 'Varme', 'value': 'Fjernvarme'},\n",
       "   'DEMOLink': {'value': 'http://energisparebygning.dk/DEMOService.svc/PdfDocument/200034848'}}},\n",
       " {'type': 'Feature',\n",
       "  'id': '200036794',\n",
       "  'geometry': {'type': 'Point',\n",
       "   'coordinates': [12.577741120949, 55.708177155335]},\n",
       "  'properties': {'EnergyLabelClassification': {'value': 'D'},\n",
       "   'StreetName': {'value': 'Vordingborggade'},\n",
       "   'HouseNumber': {'value': '1'},\n",
       "   'ZipCode': {'value': '2100'},\n",
       "   'CityName': {'value': 'København Ø'},\n",
       "   'BBRUseCode': {'label': 'Type', 'value': 'Etageejendom'},\n",
       "   'YearOfConstruction': {'label': 'Opført', 'value': '1904'},\n",
       "   'HeatSupply': {'label': 'Varme', 'value': 'Fjernvarme'},\n",
       "   'DEMOLink': {'value': 'http://energisparebygning.dk/DEMOService.svc/PdfDocument/200036794'}}},\n",
       " {'type': 'Feature',\n",
       "  'id': '311061284',\n",
       "  'geometry': {'type': 'Point',\n",
       "   'coordinates': [12.576753082696, 55.70817000141]},\n",
       "  'properties': {'EnergyLabelClassification': {'value': 'C'},\n",
       "   'StreetName': {'value': 'Østerbrogade'},\n",
       "   'HouseNumber': {'value': '87 '},\n",
       "   'ZipCode': {'value': '2100'},\n",
       "   'CityName': {'value': 'København Ø'},\n",
       "   'BBRUseCode': {'label': 'Type', 'value': 'Etageejendom'},\n",
       "   'YearOfConstruction': {'label': 'Opført', 'value': '1929'},\n",
       "   'HeatSupply': {'label': 'Varme', 'value': 'Fjernvarme'},\n",
       "   'DEMOLink': {'value': 'http://energisparebygning.dk/DEMOService.svc/PdfDocument/311061284'}}},\n",
       " {'type': 'Feature',\n",
       "  'id': '311135644',\n",
       "  'geometry': {'type': 'Point',\n",
       "   'coordinates': [12.57773971211, 55.708509892261]},\n",
       "  'properties': {'EnergyLabelClassification': {'value': 'D'},\n",
       "   'StreetName': {'value': 'Østerbrogade'},\n",
       "   'HouseNumber': {'value': '152'},\n",
       "   'ZipCode': {'value': '2100'},\n",
       "   'CityName': {'value': 'København Ø'},\n",
       "   'BBRUseCode': {'label': 'Type', 'value': 'Etageejendom'},\n",
       "   'YearOfConstruction': {'label': 'Opført', 'value': '1904'},\n",
       "   'HeatSupply': {'label': 'Varme', 'value': 'Fjernvarme'},\n",
       "   'DEMOLink': {'value': 'http://energisparebygning.dk/DEMOService.svc/PdfDocument/311135644'}}},\n",
       " {'type': 'Feature',\n",
       "  'id': '311140309',\n",
       "  'geometry': {'type': 'Point',\n",
       "   'coordinates': [12.576090306471, 55.708584962854]},\n",
       "  'properties': {'EnergyLabelClassification': {'value': 'C'},\n",
       "   'StreetName': {'value': 'Østerbrogade'},\n",
       "   'HouseNumber': {'value': '95'},\n",
       "   'ZipCode': {'value': '2100'},\n",
       "   'CityName': {'value': 'København Ø'},\n",
       "   'BBRUseCode': {'label': 'Type', 'value': 'Etageejendom'},\n",
       "   'YearOfConstruction': {'label': 'Opført', 'value': '1930'},\n",
       "   'HeatSupply': {'label': 'Varme', 'value': 'Fjernvarme'},\n",
       "   'DEMOLink': {'value': 'http://energisparebygning.dk/DEMOService.svc/PdfDocument/311140309'}}}]"
      ]
     },
     "execution_count": 58,
     "metadata": {},
     "output_type": "execute_result"
    }
   ],
   "source": [
    "feat "
   ]
  }
 ],
 "metadata": {
  "kernelspec": {
   "display_name": "Python 3",
   "language": "python",
   "name": "python3"
  },
  "language_info": {
   "codemirror_mode": {
    "name": "ipython",
    "version": 3
   },
   "file_extension": ".py",
   "mimetype": "text/x-python",
   "name": "python",
   "nbconvert_exporter": "python",
   "pygments_lexer": "ipython3",
   "version": "3.6.7"
  }
 },
 "nbformat": 4,
 "nbformat_minor": 2
}
