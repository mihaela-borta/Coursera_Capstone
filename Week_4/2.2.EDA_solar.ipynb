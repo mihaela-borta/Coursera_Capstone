{
 "cells": [
  {
   "cell_type": "markdown",
   "metadata": {},
   "source": [
    "## Solar Potential\n",
    "### Consolidating the collected information - Part 2"
   ]
  },
  {
   "cell_type": "markdown",
   "metadata": {},
   "source": [
    "The original data source for Solar Potential had the coordinates in Easting, Northing coordinates so we need to transform them to  Latitude and Longitude such that we can link them to the Energy Label Classification information (also such that we can better relate to them in general)."
   ]
  },
  {
   "cell_type": "code",
   "execution_count": 1,
   "metadata": {},
   "outputs": [],
   "source": [
    "from datetime import datetime\n",
    "import time\n",
    "\n",
    "import multiprocessing as mp\n",
    "import os\n",
    "import ast\n",
    "import json\n",
    "\n",
    "import utm\n",
    "import utils\n",
    "\n",
    "import pandas as pd\n",
    "pd.set_option('display.max_rows', 500)\n",
    "pd.set_option('display.max_columns', 500)\n",
    "pd.set_option('display.width', 1000)\n",
    "pd.set_option('display.max_colwidth', 500)"
   ]
  },
  {
   "cell_type": "markdown",
   "metadata": {},
   "source": [
    "Define: \n",
    "- the file paths for the files containing the solar potential information\n",
    "- the output file where we will be saving the information after we have transformed the coordinates from Eastin, Northing to Latitude and Longitude"
   ]
  },
  {
   "cell_type": "code",
   "execution_count": 2,
   "metadata": {},
   "outputs": [
    {
     "name": "stdout",
     "output_type": "stream",
     "text": [
      "We have 33 files\n",
      "Dir /home/osboxes/courses/ibm/data/solar_ll already exists\n"
     ]
    }
   ],
   "source": [
    "mydir = os.path.join(os.getcwd(), 'data', 'solar_clean')\n",
    "files = [os.path.join(mydir, f) for f in os.listdir(mydir) if os.path.isfile(os.path.join(mydir, f))]\n",
    "files = sorted(files)\n",
    "print('We have {} files'.format(len(files)))\n",
    "\n",
    "new_dir = os.path.join(os.getcwd(), 'data', 'solar_ll')\n",
    "if not os.path.exists(new_dir):\n",
    "    os.makedirs(new_dir)\n",
    "    print('Created {}'.format(new_dir))\n",
    "else:\n",
    "    print('Dir {} already exists'.format(new_dir))"
   ]
  },
  {
   "cell_type": "code",
   "execution_count": null,
   "metadata": {},
   "outputs": [],
   "source": [
    "def to_latlong(east_north):\n",
    "    east = east_north[0]\n",
    "    north = east_north[1]\n",
    "    try:\n",
    "        lat_long = list(utm.to_latlon(east,north,32,'N'))\n",
    "        return lat_long\n",
    "    except Exception as e:\n",
    "        print('Error converting {} -- {}'.format(east_north, str(e)))\n",
    "        return None"
   ]
  },
  {
   "cell_type": "code",
   "execution_count": null,
   "metadata": {},
   "outputs": [],
   "source": [
    "def transform_geom(row):\n",
    "    geom = row['geometry']\n",
    "    geom['coordinates'] = [to_latlong(point[0:2]) for point in geom['coordinates'][0]]\n",
    "    return geom"
   ]
  },
  {
   "cell_type": "code",
   "execution_count": null,
   "metadata": {},
   "outputs": [],
   "source": [
    "files = sorted(files)\n",
    "test_index = [0]\n",
    "\n",
    "for i in test_index:\n",
    "    start = datetime.now()\n",
    "    print(start)\n",
    "    with open(files[i]) as f:\n",
    "        df = pd.read_csv(f, sep=';')\n",
    "        df['geometry_ll'] = df.apply(lambda x: transform_geom(x), axis=1)\n",
    "        print(display(df.head(1)))\n",
    "        print(datetime.now()-start)\n",
    "        print(datetime.now())        "
   ]
  },
  {
   "cell_type": "code",
   "execution_count": null,
   "metadata": {},
   "outputs": [
    {
     "name": "stdout",
     "output_type": "stream",
     "text": [
      "Created /home/osboxes/courses/ibm/data/solar_ll/solar_splitad.csv\n",
      "Created /home/osboxes/courses/ibm/data/solar_ll/solar_splitaa.csv\n",
      "Created /home/osboxes/courses/ibm/data/solar_ll/solar_splitaj.csv\n",
      "Created /home/osboxes/courses/ibm/data/solar_ll/solar_splitag.csv\n",
      "Created /home/osboxes/courses/ibm/data/solar_ll/solar_splitah.csv\n",
      "Created /home/osboxes/courses/ibm/data/solar_ll/solar_splitae.csv\n",
      "Created /home/osboxes/courses/ibm/data/solar_ll/solar_splitak.csv\n",
      "Created /home/osboxes/courses/ibm/data/solar_ll/solar_splitab.csv\n",
      "Created /home/osboxes/courses/ibm/data/solar_ll/solar_splitai.csv\n",
      "Created /home/osboxes/courses/ibm/data/solar_ll/solar_splitaf.csv\n",
      "Created /home/osboxes/courses/ibm/data/solar_ll/solar_splital.csv\n",
      "Created /home/osboxes/courses/ibm/data/solar_ll/solar_splitac.csv\n",
      "Created /home/osboxes/courses/ibm/data/solar_ll/solar_splitas.csv\n",
      "Created /home/osboxes/courses/ibm/data/solar_ll/solar_splitam.csv\n",
      "Created /home/osboxes/courses/ibm/data/solar_ll/solar_splitap.csv\n",
      "Created /home/osboxes/courses/ibm/data/solar_ll/solar_splitav.csv\n",
      "Created /home/osboxes/courses/ibm/data/solar_ll/solar_splitat.csv\n",
      "Created /home/osboxes/courses/ibm/data/solar_ll/solar_splitan.csv\n",
      "Created /home/osboxes/courses/ibm/data/solar_ll/solar_splitaq.csv\n",
      "Created /home/osboxes/courses/ibm/data/solar_ll/solar_splitaw.csv\n",
      "Created /home/osboxes/courses/ibm/data/solar_ll/solar_splitau.csv\n",
      "Created /home/osboxes/courses/ibm/data/solar_ll/solar_splitax.csv\n",
      "Created /home/osboxes/courses/ibm/data/solar_ll/solar_splitao.csv\n",
      "Created /home/osboxes/courses/ibm/data/solar_ll/solar_splitar.csv\n",
      "Created /home/osboxes/courses/ibm/data/solar_ll/solar_splitay.csv\n",
      "Created /home/osboxes/courses/ibm/data/solar_ll/solar_splitbb.csv\n",
      "Created /home/osboxes/courses/ibm/data/solar_ll/solar_splitbe.csv\n",
      "Created /home/osboxes/courses/ibm/data/solar_ll/solar_splitaz.csv\n",
      "Created /home/osboxes/courses/ibm/data/solar_ll/solar_splitbc.csv\n",
      "Created /home/osboxes/courses/ibm/data/solar_ll/solar_splitbf.csv\n",
      "Created /home/osboxes/courses/ibm/data/solar_ll/solar_splitbg.csv\n"
     ]
    }
   ],
   "source": [
    "pool = mp.Pool(mp.cpu_count())\n",
    "results = pool.map(utils.add_latlong, [(files[i], new_dir) for i in range(len(files))])"
   ]
  },
  {
   "cell_type": "code",
   "execution_count": 6,
   "metadata": {},
   "outputs": [
    {
     "data": {
      "text/html": [
       "<div>\n",
       "<style scoped>\n",
       "    .dataframe tbody tr th:only-of-type {\n",
       "        vertical-align: middle;\n",
       "    }\n",
       "\n",
       "    .dataframe tbody tr th {\n",
       "        vertical-align: top;\n",
       "    }\n",
       "\n",
       "    .dataframe thead th {\n",
       "        text-align: right;\n",
       "    }\n",
       "</style>\n",
       "<table border=\"1\" class=\"dataframe\">\n",
       "  <thead>\n",
       "    <tr style=\"text-align: right;\">\n",
       "      <th></th>\n",
       "      <th>Unnamed: 0</th>\n",
       "      <th>type</th>\n",
       "      <th>properties</th>\n",
       "      <th>geometry_ll</th>\n",
       "    </tr>\n",
       "  </thead>\n",
       "  <tbody>\n",
       "    <tr>\n",
       "      <th>0</th>\n",
       "      <td>0</td>\n",
       "      <td>Feature</td>\n",
       "      <td>{'id': 1, 'old_id': 1, 'dgn_id': 76, 'elementid': 1739045, 'exposedseconds': 13398300, 'shadowedseconds': 3824100, 'directinsolation': 405282.860341, 'diffuseinsolation': 571313.153412, 'byg_id': 655982500039710, 'horizontal': 143.972626614887, 'vertical': 6, 'area': 0.0983159397859777, 'samletsol': 976596.013753, 'solgruppe1': 2, 'solgruppe2': 2, 'solgruppe3': 3}</td>\n",
       "      <td>{'type': 'Polygon', 'coordinates': [[55.682265891429225, 12.629422199248431], [55.68227119505984, 12.629427115492913], [55.68226882056982, 12.629430173878344], [55.682265891429225, 12.629422199248431]]}</td>\n",
       "    </tr>\n",
       "  </tbody>\n",
       "</table>\n",
       "</div>"
      ],
      "text/plain": [
       "   Unnamed: 0     type                                                                                                                                                                                                                                                                                                                                                                      properties                                                                                                                                                                                                 geometry_ll\n",
       "0           0  Feature  {'id': 1, 'old_id': 1, 'dgn_id': 76, 'elementid': 1739045, 'exposedseconds': 13398300, 'shadowedseconds': 3824100, 'directinsolation': 405282.860341, 'diffuseinsolation': 571313.153412, 'byg_id': 655982500039710, 'horizontal': 143.972626614887, 'vertical': 6, 'area': 0.0983159397859777, 'samletsol': 976596.013753, 'solgruppe1': 2, 'solgruppe2': 2, 'solgruppe3': 3}  {'type': 'Polygon', 'coordinates': [[55.682265891429225, 12.629422199248431], [55.68227119505984, 12.629427115492913], [55.68226882056982, 12.629430173878344], [55.682265891429225, 12.629422199248431]]}"
      ]
     },
     "execution_count": 6,
     "metadata": {},
     "output_type": "execute_result"
    }
   ],
   "source": [
    "#Test one file\n",
    "df = pd.read_csv(results[0])\n",
    "df.head(1)"
   ]
  }
 ],
 "metadata": {
  "kernelspec": {
   "display_name": "Python 3",
   "language": "python",
   "name": "python3"
  },
  "language_info": {
   "codemirror_mode": {
    "name": "ipython",
    "version": 3
   },
   "file_extension": ".py",
   "mimetype": "text/x-python",
   "name": "python",
   "nbconvert_exporter": "python",
   "pygments_lexer": "ipython3",
   "version": "3.6.7"
  }
 },
 "nbformat": 4,
 "nbformat_minor": 4
}
