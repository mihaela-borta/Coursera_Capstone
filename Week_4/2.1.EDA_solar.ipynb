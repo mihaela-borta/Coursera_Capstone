{
 "cells": [
  {
   "cell_type": "markdown",
   "metadata": {},
   "source": [
    "## Solar Potential\n",
    "### Consolidating the collected information - Part 1"
   ]
  },
  {
   "cell_type": "markdown",
   "metadata": {},
   "source": [
    "The Municipality of Copenhagen shares a lot of interesting datasets (covering a wide array of topics) with the public. <br>\n",
    "\n",
    "Among them there is one with [solar rooftop potential for buildings in Copenhagen](https://data.kk.dk/dataset/soldata-3d-kobenhavn).\n",
    "\n",
    "The author also made a very good note on the data, pointing out that it should basically be used 'with a grain of salt'. Below is the Google Translate version of why this is so:\n",
    "    \n",
    "\"Data is indicative only and gives a clue as to whether it can be a good idea with solar cells. The map does not take into account all shadows. For example, shadows from trees, chimneys, antennae, smaller twigs and bay windows are not included. If the roof of your property is flat, the roof may also be more suitable than the map shows. At the same time, does the map not show how the solar cells fit the architecture of the building and the area? Therefore, it is usually a good idea to get help from a counselor to make a more detailed assessment of the possibilities.\"\n",
    "\n",
    "Still, it is way better than having nothing and easier to process than the alternative of trying to extract similar data from [this live map with rooftop solar potential](http://kbhkort.kk.dk/spatialmap?&selectorgroups=themecontainer%20bygninger%20detaljer&mapext=702689.6%206165734.4%20747310.4%206186265.6&layers=theme-startkort%20theme-disclaimer%20theme-bymodel_bygning_solgrupper_40&mapheight=807&mapwidth=1748&profile=solanalyser). I would have rather worked with this more updated data, but time was simply too limited.\n",
    "\n",
    "##### Data Format\n",
    "\n",
    "The file is basically a 7GB archived JSON file with the following format:"
   ]
  },
  {
   "cell_type": "code",
   "execution_count": 2,
   "metadata": {},
   "outputs": [
    {
     "data": {
      "text/plain": [
       "{'name': 'bymodel.SOLDATA_3D_KØBENHAVN',\n",
       " 'type': 'FeatureCollection',\n",
       " 'crs': {'type': 'name', 'properties': {'name': 'EPSG:25832'}},\n",
       " 'features': [{'type': 'Feature',\n",
       "   'geometry': {'type': 'Polygon',\n",
       "    'coordinates': [[[728157.043, 6176689.234, 26.181],\n",
       "      [728157.321, 6176689.84, 26.217],\n",
       "      [728157.527, 6176689.586, 26.181],\n",
       "      [728157.043, 6176689.234, 26.181]]]},\n",
       "   'properties': {'id': 1,\n",
       "    'old_id': 1,\n",
       "    'dgn_id': 76,\n",
       "    'elementid': 1739045,\n",
       "    'exposedseconds': 13398300,\n",
       "    'shadowedseconds': 3824100,\n",
       "    'directinsolation': 405282.860341,\n",
       "    'diffuseinsolation': 571313.153412,\n",
       "    'byg_id': 655982500039710,\n",
       "    'horizontal': 143.972626614887,\n",
       "    'vertical': 6,\n",
       "    'area': 0.0983159397859777,\n",
       "    'samletsol': 976596.013753,\n",
       "    'solgruppe1': 2,\n",
       "    'solgruppe2': 2,\n",
       "    'solgruppe3': 3}}]}"
      ]
     },
     "execution_count": 2,
     "metadata": {},
     "output_type": "execute_result"
    }
   ],
   "source": [
    "{\n",
    "  \"name\": \"bymodel.SOLDATA_3D_KØBENHAVN\",\n",
    "  \"type\": \"FeatureCollection\",\n",
    "  \"crs\": {\n",
    "    \"type\": \"name\",\n",
    "    \"properties\": {\n",
    "      \"name\": \"EPSG:25832\"\n",
    "    }\n",
    "  },\n",
    "  \"features\": [\n",
    "    {\n",
    "      \"type\": \"Feature\",\n",
    "      \"geometry\": {\n",
    "        \"type\": \"Polygon\",\n",
    "        \"coordinates\": [\n",
    "          [\n",
    "            [\n",
    "              728157.043,\n",
    "              6176689.234,\n",
    "              26.181\n",
    "            ],\n",
    "            [\n",
    "              728157.321,\n",
    "              6176689.84,\n",
    "              26.217\n",
    "            ],\n",
    "            [\n",
    "              728157.527,\n",
    "              6176689.586,\n",
    "              26.181\n",
    "            ],\n",
    "            [\n",
    "              728157.043,\n",
    "              6176689.234,\n",
    "              26.181\n",
    "            ]\n",
    "          ]\n",
    "        ]\n",
    "      },\n",
    "      \"properties\": {\n",
    "        \"id\": 1,\n",
    "        \"old_id\": 1,\n",
    "        \"dgn_id\": 76,\n",
    "        \"elementid\": 1739045,\n",
    "        \"exposedseconds\": 13398300,\n",
    "        \"shadowedseconds\": 3824100,\n",
    "        \"directinsolation\": 405282.860341,\n",
    "        \"diffuseinsolation\": 571313.153412,\n",
    "        \"byg_id\": 655982500039710,\n",
    "        \"horizontal\": 143.972626614887,\n",
    "        \"vertical\": 6,\n",
    "        \"area\": 0.0983159397859777,\n",
    "        \"samletsol\": 976596.013753,\n",
    "        \"solgruppe1\": 2,\n",
    "        \"solgruppe2\": 2,\n",
    "        \"solgruppe3\": 3\n",
    "      }\n",
    "    }\n",
    "  ]\n",
    "}"
   ]
  },
  {
   "cell_type": "code",
   "execution_count": 1,
   "metadata": {},
   "outputs": [],
   "source": [
    "from datetime import datetime\n",
    "import time\n",
    "\n",
    "import os\n",
    "import ast\n",
    "import json\n",
    "\n",
    "import utm\n",
    "\n",
    "import pandas as pd\n",
    "pd.set_option('display.max_rows', 500)\n",
    "pd.set_option('display.max_columns', 500)\n",
    "pd.set_option('display.width', 1000)\n",
    "pd.set_option('display.max_colwidth', 500)"
   ]
  },
  {
   "cell_type": "markdown",
   "metadata": {},
   "source": [
    "### Split the 7 GB file in smaller files (400k rows)"
   ]
  },
  {
   "cell_type": "code",
   "execution_count": null,
   "metadata": {},
   "outputs": [],
   "source": [
    "!cd /home/osboxes/courses/ibm/data && split -l 400000 soldata3dkoebenhavn.json solar_split"
   ]
  },
  {
   "cell_type": "markdown",
   "metadata": {},
   "source": [
    "### Get the paths of the files that resulted in the split of the orrigial large JSON file  "
   ]
  },
  {
   "cell_type": "code",
   "execution_count": 2,
   "metadata": {},
   "outputs": [],
   "source": [
    "mydir = os.path.join(os.getcwd(), 'data')\n",
    "files = [os.path.join(mydir, f) for f in os.listdir(mydir) if os.path.isfile(os.path.join(mydir, f))]\n",
    "files = [f for f in files if 'solar_split' in f]\n",
    "files = sorted(files)"
   ]
  },
  {
   "cell_type": "markdown",
   "metadata": {},
   "source": [
    "#### Clean up these files so that we're able to read them with Pandas"
   ]
  },
  {
   "cell_type": "code",
   "execution_count": 6,
   "metadata": {},
   "outputs": [
    {
     "name": "stdout",
     "output_type": "stream",
     "text": [
      "/home/osboxes/courses/ibm/data/solar/solar_splitaa\n",
      "/home/osboxes/courses/ibm/data/solar/solar_splitab\n",
      "/home/osboxes/courses/ibm/data/solar/solar_splitac\n",
      "/home/osboxes/courses/ibm/data/solar/solar_splitad\n",
      "/home/osboxes/courses/ibm/data/solar/solar_splitae\n",
      "/home/osboxes/courses/ibm/data/solar/solar_splitaf\n",
      "/home/osboxes/courses/ibm/data/solar/solar_splitag\n",
      "/home/osboxes/courses/ibm/data/solar/solar_splitah\n",
      "/home/osboxes/courses/ibm/data/solar/solar_splitai\n",
      "/home/osboxes/courses/ibm/data/solar/solar_splitaj\n",
      "/home/osboxes/courses/ibm/data/solar/solar_splitak\n",
      "/home/osboxes/courses/ibm/data/solar/solar_splital\n",
      "/home/osboxes/courses/ibm/data/solar/solar_splitam\n",
      "/home/osboxes/courses/ibm/data/solar/solar_splitan\n",
      "/home/osboxes/courses/ibm/data/solar/solar_splitao\n",
      "/home/osboxes/courses/ibm/data/solar/solar_splitap\n",
      "/home/osboxes/courses/ibm/data/solar/solar_splitaq\n",
      "/home/osboxes/courses/ibm/data/solar/solar_splitar\n",
      "/home/osboxes/courses/ibm/data/solar/solar_splitas\n",
      "/home/osboxes/courses/ibm/data/solar/solar_splitat\n",
      "/home/osboxes/courses/ibm/data/solar/solar_splitau\n",
      "/home/osboxes/courses/ibm/data/solar/solar_splitav\n",
      "/home/osboxes/courses/ibm/data/solar/solar_splitaw\n",
      "/home/osboxes/courses/ibm/data/solar/solar_splitax\n",
      "/home/osboxes/courses/ibm/data/solar/solar_splitay\n",
      "/home/osboxes/courses/ibm/data/solar/solar_splitaz\n",
      "/home/osboxes/courses/ibm/data/solar/solar_splitba\n",
      "/home/osboxes/courses/ibm/data/solar/solar_splitbb\n",
      "/home/osboxes/courses/ibm/data/solar/solar_splitbc\n",
      "/home/osboxes/courses/ibm/data/solar/solar_splitbd\n",
      "/home/osboxes/courses/ibm/data/solar/solar_splitbe\n",
      "/home/osboxes/courses/ibm/data/solar/solar_splitbf\n",
      "/home/osboxes/courses/ibm/data/solar/solar_splitbg\n"
     ]
    }
   ],
   "source": [
    "new_dir = os.path.join(os.getcwd(), 'data', 'solar')\n",
    "for crt in range(len(files)): #\n",
    "    f = files[crt]\n",
    "    with open(files[crt]) as fh:\n",
    "        lines = fh.readlines()\n",
    "        if crt == 0:\n",
    "            lines[-1] += ']}'  \n",
    "        elif crt == len(files)-1:\n",
    "            lines[0] = '[' + lines[0][1:] #add start list bracket, remove the heading comma\n",
    "            lines[-2] = lines[-2] + ']'  #add end list bracket\n",
    "            lines = lines[:-1] #remove ']}'\n",
    "        else:\n",
    "            lines[0] = '[' + lines[0][1:] #add start list bracket, remove the heading comma\n",
    "            lines[-1] = lines[-1] + ']'  #add end list bracket\n",
    "        \n",
    "        \n",
    "        crt_filename = f.split('/')[-1]\n",
    "        new_f = os.path.join(new_dir, crt_filename)\n",
    "        print(new_f)\n",
    "        with open(new_f, 'a+') as new_fh:\n",
    "            new_fh.writelines(lines)"
   ]
  },
  {
   "cell_type": "markdown",
   "metadata": {},
   "source": [
    "### Keep only the features dictionary entries and store them in new files in CSV format "
   ]
  },
  {
   "cell_type": "markdown",
   "metadata": {},
   "source": [
    "#### Create the new storage location"
   ]
  },
  {
   "cell_type": "code",
   "execution_count": 7,
   "metadata": {},
   "outputs": [
    {
     "name": "stdout",
     "output_type": "stream",
     "text": [
      "Dir /home/osboxes/courses/ibm/data/solar_clean already exists\n"
     ]
    }
   ],
   "source": [
    "new_dir = os.path.join(os.getcwd(), 'data', 'solar_clean')\n",
    "if not os.path.exists(new_dir):\n",
    "    os.makedirs(new_dir)\n",
    "    print('Created {}'.format(new_dir))\n",
    "else:\n",
    "    print('Dir {} already exists'.format(new_dir))"
   ]
  },
  {
   "cell_type": "markdown",
   "metadata": {},
   "source": [
    "#### Extract the relevant information and store it for further processing"
   ]
  },
  {
   "cell_type": "code",
   "execution_count": 9,
   "metadata": {},
   "outputs": [
    {
     "name": "stdout",
     "output_type": "stream",
     "text": [
      "File /home/osboxes/courses/ibm/data/solar/solar_splitaa has (399997, 3) rows and columns\n",
      "Written to CSV: /home/osboxes/courses/ibm/data/solar_clean/solar_splitaa.csv\n",
      "File /home/osboxes/courses/ibm/data/solar/solar_splitab has (400000, 3) rows and columns\n",
      "Written to CSV: /home/osboxes/courses/ibm/data/solar_clean/solar_splitab.csv\n",
      "File /home/osboxes/courses/ibm/data/solar/solar_splitac has (400000, 3) rows and columns\n",
      "Written to CSV: /home/osboxes/courses/ibm/data/solar_clean/solar_splitac.csv\n",
      "File /home/osboxes/courses/ibm/data/solar/solar_splitad has (400000, 3) rows and columns\n",
      "Written to CSV: /home/osboxes/courses/ibm/data/solar_clean/solar_splitad.csv\n",
      "File /home/osboxes/courses/ibm/data/solar/solar_splitae has (400000, 3) rows and columns\n",
      "Written to CSV: /home/osboxes/courses/ibm/data/solar_clean/solar_splitae.csv\n",
      "File /home/osboxes/courses/ibm/data/solar/solar_splitaf has (400000, 3) rows and columns\n",
      "Written to CSV: /home/osboxes/courses/ibm/data/solar_clean/solar_splitaf.csv\n",
      "File /home/osboxes/courses/ibm/data/solar/solar_splitag has (400000, 3) rows and columns\n",
      "Written to CSV: /home/osboxes/courses/ibm/data/solar_clean/solar_splitag.csv\n",
      "File /home/osboxes/courses/ibm/data/solar/solar_splitah has (400000, 3) rows and columns\n",
      "Written to CSV: /home/osboxes/courses/ibm/data/solar_clean/solar_splitah.csv\n",
      "File /home/osboxes/courses/ibm/data/solar/solar_splitai has (400000, 3) rows and columns\n",
      "Written to CSV: /home/osboxes/courses/ibm/data/solar_clean/solar_splitai.csv\n",
      "File /home/osboxes/courses/ibm/data/solar/solar_splitaj has (400000, 3) rows and columns\n",
      "Written to CSV: /home/osboxes/courses/ibm/data/solar_clean/solar_splitaj.csv\n",
      "File /home/osboxes/courses/ibm/data/solar/solar_splitak has (400000, 3) rows and columns\n",
      "Written to CSV: /home/osboxes/courses/ibm/data/solar_clean/solar_splitak.csv\n",
      "File /home/osboxes/courses/ibm/data/solar/solar_splital has (400000, 3) rows and columns\n",
      "Written to CSV: /home/osboxes/courses/ibm/data/solar_clean/solar_splital.csv\n",
      "File /home/osboxes/courses/ibm/data/solar/solar_splitam has (400000, 3) rows and columns\n",
      "Written to CSV: /home/osboxes/courses/ibm/data/solar_clean/solar_splitam.csv\n",
      "File /home/osboxes/courses/ibm/data/solar/solar_splitan has (400000, 3) rows and columns\n",
      "Written to CSV: /home/osboxes/courses/ibm/data/solar_clean/solar_splitan.csv\n",
      "File /home/osboxes/courses/ibm/data/solar/solar_splitao has (400000, 3) rows and columns\n",
      "Written to CSV: /home/osboxes/courses/ibm/data/solar_clean/solar_splitao.csv\n",
      "File /home/osboxes/courses/ibm/data/solar/solar_splitap has (400000, 3) rows and columns\n",
      "Written to CSV: /home/osboxes/courses/ibm/data/solar_clean/solar_splitap.csv\n",
      "File /home/osboxes/courses/ibm/data/solar/solar_splitaq has (400000, 3) rows and columns\n",
      "Written to CSV: /home/osboxes/courses/ibm/data/solar_clean/solar_splitaq.csv\n",
      "File /home/osboxes/courses/ibm/data/solar/solar_splitar has (400000, 3) rows and columns\n",
      "Written to CSV: /home/osboxes/courses/ibm/data/solar_clean/solar_splitar.csv\n",
      "File /home/osboxes/courses/ibm/data/solar/solar_splitas has (400000, 3) rows and columns\n",
      "Written to CSV: /home/osboxes/courses/ibm/data/solar_clean/solar_splitas.csv\n",
      "File /home/osboxes/courses/ibm/data/solar/solar_splitat has (400000, 3) rows and columns\n",
      "Written to CSV: /home/osboxes/courses/ibm/data/solar_clean/solar_splitat.csv\n",
      "File /home/osboxes/courses/ibm/data/solar/solar_splitau has (400000, 3) rows and columns\n",
      "Written to CSV: /home/osboxes/courses/ibm/data/solar_clean/solar_splitau.csv\n",
      "File /home/osboxes/courses/ibm/data/solar/solar_splitav has (400000, 3) rows and columns\n",
      "Written to CSV: /home/osboxes/courses/ibm/data/solar_clean/solar_splitav.csv\n",
      "File /home/osboxes/courses/ibm/data/solar/solar_splitaw has (400000, 3) rows and columns\n",
      "Written to CSV: /home/osboxes/courses/ibm/data/solar_clean/solar_splitaw.csv\n",
      "File /home/osboxes/courses/ibm/data/solar/solar_splitax has (400000, 3) rows and columns\n",
      "Written to CSV: /home/osboxes/courses/ibm/data/solar_clean/solar_splitax.csv\n",
      "File /home/osboxes/courses/ibm/data/solar/solar_splitay has (400000, 3) rows and columns\n",
      "Written to CSV: /home/osboxes/courses/ibm/data/solar_clean/solar_splitay.csv\n",
      "File /home/osboxes/courses/ibm/data/solar/solar_splitaz has (400000, 3) rows and columns\n",
      "Written to CSV: /home/osboxes/courses/ibm/data/solar_clean/solar_splitaz.csv\n",
      "File /home/osboxes/courses/ibm/data/solar/solar_splitba has (400000, 3) rows and columns\n",
      "Written to CSV: /home/osboxes/courses/ibm/data/solar_clean/solar_splitba.csv\n",
      "File /home/osboxes/courses/ibm/data/solar/solar_splitbb has (400000, 3) rows and columns\n",
      "Written to CSV: /home/osboxes/courses/ibm/data/solar_clean/solar_splitbb.csv\n",
      "File /home/osboxes/courses/ibm/data/solar/solar_splitbc has (400000, 3) rows and columns\n",
      "Written to CSV: /home/osboxes/courses/ibm/data/solar_clean/solar_splitbc.csv\n",
      "File /home/osboxes/courses/ibm/data/solar/solar_splitbd has (400000, 3) rows and columns\n",
      "Written to CSV: /home/osboxes/courses/ibm/data/solar_clean/solar_splitbd.csv\n",
      "File /home/osboxes/courses/ibm/data/solar/solar_splitbe has (400000, 3) rows and columns\n",
      "Written to CSV: /home/osboxes/courses/ibm/data/solar_clean/solar_splitbe.csv\n",
      "File /home/osboxes/courses/ibm/data/solar/solar_splitbf has (400000, 3) rows and columns\n",
      "Written to CSV: /home/osboxes/courses/ibm/data/solar_clean/solar_splitbf.csv\n",
      "File /home/osboxes/courses/ibm/data/solar/solar_splitbg has (59735, 3) rows and columns\n",
      "Written to CSV: /home/osboxes/courses/ibm/data/solar_clean/solar_splitbg.csv\n"
     ]
    }
   ],
   "source": [
    "mydir = os.path.join(os.getcwd(), 'data', 'solar')\n",
    "files = [os.path.join(mydir, f) for f in os.listdir(mydir) if os.path.isfile(os.path.join(mydir, f))]\n",
    "files = [f for f in files if 'solar_split' in f]\n",
    "files = sorted(files)\n",
    "\n",
    "for i in range(len(files)):\n",
    "    with open(files[i]) as f:\n",
    "        data = json.load(f)\n",
    "        if i>0:\n",
    "            df = pd.DataFrame.from_dict(data)\n",
    "        else:\n",
    "            df = pd.DataFrame.from_dict(data['features'])\n",
    "        print('File {} has {} rows and columns'.format(files[i], df.shape))\n",
    "        new_f_name = files[i].split('/')[-1] + '.csv'\n",
    "        new_file = os.path.join(new_dir, new_f_name)\n",
    "        df.to_csv(new_file, index=False, sep=';')\n",
    "        print('Written to CSV: {}'.format(new_file))"
   ]
  },
  {
   "cell_type": "markdown",
   "metadata": {},
   "source": [
    "### Remove the old files"
   ]
  },
  {
   "cell_type": "code",
   "execution_count": 1,
   "metadata": {},
   "outputs": [],
   "source": [
    "!rm -rf data/solar_split*"
   ]
  },
  {
   "cell_type": "code",
   "execution_count": 2,
   "metadata": {},
   "outputs": [],
   "source": [
    "!rm -rf /home/osboxes/courses/ibm/data/solar"
   ]
  }
 ],
 "metadata": {
  "kernelspec": {
   "display_name": "Python 3",
   "language": "python",
   "name": "python3"
  },
  "language_info": {
   "codemirror_mode": {
    "name": "ipython",
    "version": 3
   },
   "file_extension": ".py",
   "mimetype": "text/x-python",
   "name": "python",
   "nbconvert_exporter": "python",
   "pygments_lexer": "ipython3",
   "version": "3.6.7"
  }
 },
 "nbformat": 4,
 "nbformat_minor": 4
}
