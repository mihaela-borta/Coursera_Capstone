{
 "cells": [
  {
   "cell_type": "markdown",
   "metadata": {},
   "source": [
    "# Applied Data Science Capstone\n",
    "\n",
    "## Capstone Project Decription"
   ]
  },
  {
   "cell_type": "markdown",
   "metadata": {},
   "source": [
    "### 1. Introduction"
   ]
  },
  {
   "cell_type": "markdown",
   "metadata": {},
   "source": [
    "The learning objective for this project was to leverage a public API (Foursquare was suggested) in order to get some data on which to apply a data science approach in order to address a business problem. <br>\n",
    "\n",
    "My favourite way of addressing these types of assigments is to try and link them to a real business problem, or a topic/area of interest I am currently interested in. <br>\n",
    "\n",
    "Since sustainability and renewable enery has been in my personal top 10 for some time now, I have decided to see if I can mold this assigment such that it embraces my personal interests. Also, since I am lucky enough to live in the Danish society which has a remarably high focus on sharing data of public interest, I decided to try and give this assigment an even more personal touch by adding this extra dimension of locality. <br>"
   ]
  },
  {
   "cell_type": "markdown",
   "metadata": {},
   "source": [
    "### 2. Chosen Approach"
   ]
  },
  {
   "cell_type": "markdown",
   "metadata": {},
   "source": [
    "I decided to see if I could find some data on solar rooftop energy potential for the buildings in the city I currently live (Copenhagen) and complement it with information regarding the buildings' energy classification in order to create an overview of the current state of afairs and perhaps dig out some interesting patterns. <br>\n",
    "\n",
    "One use case that I envisioned would try to assist the municipality with insight on where their budget for energy refurbishment of buildings could best be spent."
   ]
  },
  {
   "cell_type": "markdown",
   "metadata": {},
   "source": [
    "### 3. Data selected"
   ]
  },
  {
   "cell_type": "markdown",
   "metadata": {},
   "source": [
    "#### 3.1. Solar rooftop potential data"
   ]
  },
  {
   "cell_type": "markdown",
   "metadata": {},
   "source": [
    "The Municipality of Copenhagen shares a lot of interesting datasets (covering a wide array of topics) with the public. <br>\n",
    "\n",
    "Among them there is one with [solar rooftop potential for buildings in Copenhagen](https://data.kk.dk/dataset/soldata-3d-kobenhavn).\n",
    "\n",
    "The author also made a very good note on the data, pointing out that it should basically be used 'with a grain of salt'. Below is the Google Translate version of why this is so:\n",
    "    \n",
    "\"Data is indicative only and gives a clue as to whether it can be a good idea with solar cells. The map does not take into account all shadows. For example, shadows from trees, chimneys, antennae, smaller twigs and bay windows are not included. If the roof of your property is flat, the roof may also be more suitable than the map shows. At the same time, does the map not show how the solar cells fit the architecture of the building and the area? Therefore, it is usually a good idea to get help from a counselor to make a more detailed assessment of the possibilities.\"\n",
    "\n",
    "Still, it is way better than having nothing and easier to process than the alternative of trying to extract similar data from [this live map with rooftop solar potential](http://kbhkort.kk.dk/spatialmap?&selectorgroups=themecontainer%20bygninger%20detaljer&mapext=702689.6%206165734.4%20747310.4%206186265.6&layers=theme-startkort%20theme-disclaimer%20theme-bymodel_bygning_solgrupper_40&mapheight=807&mapwidth=1748&profile=solanalyser). I would have rather worked with this more updated data, but time was simply too limited.\n",
    "\n",
    "##### Data Format\n",
    "\n",
    "The file is basically a 7GB archived JSON file with the following format:"
   ]
  },
  {
   "cell_type": "code",
   "execution_count": 5,
   "metadata": {},
   "outputs": [
    {
     "data": {
      "text/plain": [
       "{'name': 'bymodel.SOLDATA_3D_KØBENHAVN',\n",
       " 'type': 'FeatureCollection',\n",
       " 'crs': {'type': 'name', 'properties': {'name': 'EPSG:25832'}},\n",
       " 'features': [{'type': 'Feature',\n",
       "   'geometry': {'type': 'Polygon',\n",
       "    'coordinates': [[[728157.043, 6176689.234, 26.181],\n",
       "      [728157.321, 6176689.84, 26.217],\n",
       "      [728157.527, 6176689.586, 26.181],\n",
       "      [728157.043, 6176689.234, 26.181]]]},\n",
       "   'properties': {'id': 1,\n",
       "    'old_id': 1,\n",
       "    'dgn_id': 76,\n",
       "    'elementid': 1739045,\n",
       "    'exposedseconds': 13398300,\n",
       "    'shadowedseconds': 3824100,\n",
       "    'directinsolation': 405282.860341,\n",
       "    'diffuseinsolation': 571313.153412,\n",
       "    'byg_id': 655982500039710,\n",
       "    'horizontal': 143.972626614887,\n",
       "    'vertical': 6,\n",
       "    'area': 0.0983159397859777,\n",
       "    'samletsol': 976596.013753,\n",
       "    'solgruppe1': 2,\n",
       "    'solgruppe2': 2,\n",
       "    'solgruppe3': 3}}]}"
      ]
     },
     "execution_count": 5,
     "metadata": {},
     "output_type": "execute_result"
    }
   ],
   "source": [
    "{\n",
    "  \"name\": \"bymodel.SOLDATA_3D_KØBENHAVN\",\n",
    "  \"type\": \"FeatureCollection\",\n",
    "  \"crs\": {\n",
    "    \"type\": \"name\",\n",
    "    \"properties\": {\n",
    "      \"name\": \"EPSG:25832\"\n",
    "    }\n",
    "  },\n",
    "  \"features\": [\n",
    "    {\n",
    "      \"type\": \"Feature\",\n",
    "      \"geometry\": {\n",
    "        \"type\": \"Polygon\",\n",
    "        \"coordinates\": [\n",
    "          [\n",
    "            [\n",
    "              728157.043,\n",
    "              6176689.234,\n",
    "              26.181\n",
    "            ],\n",
    "            [\n",
    "              728157.321,\n",
    "              6176689.84,\n",
    "              26.217\n",
    "            ],\n",
    "            [\n",
    "              728157.527,\n",
    "              6176689.586,\n",
    "              26.181\n",
    "            ],\n",
    "            [\n",
    "              728157.043,\n",
    "              6176689.234,\n",
    "              26.181\n",
    "            ]\n",
    "          ]\n",
    "        ]\n",
    "      },\n",
    "      \"properties\": {\n",
    "        \"id\": 1,\n",
    "        \"old_id\": 1,\n",
    "        \"dgn_id\": 76,\n",
    "        \"elementid\": 1739045,\n",
    "        \"exposedseconds\": 13398300,\n",
    "        \"shadowedseconds\": 3824100,\n",
    "        \"directinsolation\": 405282.860341,\n",
    "        \"diffuseinsolation\": 571313.153412,\n",
    "        \"byg_id\": 655982500039710,\n",
    "        \"horizontal\": 143.972626614887,\n",
    "        \"vertical\": 6,\n",
    "        \"area\": 0.0983159397859777,\n",
    "        \"samletsol\": 976596.013753,\n",
    "        \"solgruppe1\": 2,\n",
    "        \"solgruppe2\": 2,\n",
    "        \"solgruppe3\": 3\n",
    "      }\n",
    "    }\n",
    "  ]\n",
    "}\n"
   ]
  },
  {
   "cell_type": "markdown",
   "metadata": {},
   "source": [
    "Basically we need to extract the features from the features list, grab the coordinates and (to keep it simpler) the 3 pieces of information which make up the 'summary' of the photovoltaic (PV) potential: \n",
    "- \"solgruppe1\"\n",
    "- \"solgruppe2\"\n",
    "- \"solgruppe3\"\n",
    "\n",
    "Before deciding on this approach, I actually did cross check to see if this was in line with what I could see in the other source of information (the live map) and indeed, they seem to agree more or less. This way I also found out that the higher the grading on the various \"solgruppe\" parameter, the higher the actual PV rating is (marks of 4 correspond to red polygons on the map -- and these are rated as \"Meget god\" meaning very good. The opposite is true for marks in the lower end of the scale.) "
   ]
  },
  {
   "cell_type": "markdown",
   "metadata": {},
   "source": [
    "### 3.2. Energy Classification data for buildings"
   ]
  },
  {
   "cell_type": "markdown",
   "metadata": {},
   "source": [
    "I managed to found one public company in Denmark called [https://sparenergi.dk/](https://sparenergi.dk/) which tries to guide people make more sustainable choices on the energy sources they use at home.\n",
    "\n",
    "As a first step in this process, they provide [a page](https://sparenergi.dk/forbruger/vaerktoejer/find-dit-energimaerke) where you can insert an address and get the respective energy classification.\n",
    "\n",
    "After some more digging around, I found out that they also have [a map](https://sparenergi.dk/demo/addresses/map) where such a overview is accessible so I decided to try and see if I can scrape it.\n",
    "\n",
    "After a lot of digging, I found out what the parameters for the HTTP requests were. The most important one was a geographical polygon that described the area for which the information is to be fetched. \n",
    "\n",
    "So I defined a large enough polygon that should encapsulate the Municipality of Copenhagen and, in order to parallelize scrapring, I broke it down into a 200x200 grid. I then made a request for each of the individual polygons in this grid and combined the information into a single file.\n",
    "\n",
    "Here is the large polygon I used for this process: ![alt text](data/img/ibm_cph_map.PNG \"Copenhagen polygon\")"
   ]
  },
  {
   "cell_type": "markdown",
   "metadata": {},
   "source": [
    "#### Data Format"
   ]
  },
  {
   "cell_type": "markdown",
   "metadata": {},
   "source": [
    "The requests responses were collected into JSON formatted text files that these types of entries:"
   ]
  },
  {
   "cell_type": "code",
   "execution_count": 10,
   "metadata": {},
   "outputs": [
    {
     "data": {
      "text/plain": [
       "{'status': 'success',\n",
       " 'insert_tms': 'datetime.datetime(2019, 7, 15, 11, 1, 46, 421675)',\n",
       " 'data': {'type': 'FeatureCollection',\n",
       "  'features': [{'type': 'Feature',\n",
       "    'id': '100268531',\n",
       "    'geometry': {'type': 'Point',\n",
       "     'coordinates': [12.485214279217, 55.66133371957]},\n",
       "    'properties': {'EnergyLabelClassification': {'value': 'D'},\n",
       "     'StreetName': {'value': 'Vigerslevstræde'},\n",
       "     'HouseNumber': {'value': '27C'},\n",
       "     'ZipCode': {'value': '2500'},\n",
       "     'CityName': {'value': 'Valby'},\n",
       "     'BBRUseCode': {'label': 'Type',\n",
       "      'value': 'Række-, kæde-, eller dobbelthus'},\n",
       "     'YearOfConstruction': {'label': 'Opført', 'value': '1972'},\n",
       "     'HeatSupply': {'label': 'Varme', 'value': 'Elektricitet'},\n",
       "     'DEMOLink': {'value': 'http://sparenergi.dk/forbruger/vaerktoejer/det-digitale-energimaerke#Adresse/Vigerslevstr%C3%A6de%2027C,%202500%20Valby%20(100268531)'}}}]}}"
      ]
     },
     "execution_count": 10,
     "metadata": {},
     "output_type": "execute_result"
    }
   ],
   "source": [
    "{\n",
    "  \"status\": \"success\",\n",
    "  \"insert_tms\": \"datetime.datetime(2019, 7, 15, 11, 1, 46, 421675)\",\n",
    "  \"data\": {\n",
    "    \"type\": \"FeatureCollection\",\n",
    "    \"features\": [\n",
    "      {\n",
    "        \"type\": \"Feature\",\n",
    "        \"id\": \"100268531\",\n",
    "        \"geometry\": {\n",
    "          \"type\": \"Point\",\n",
    "          \"coordinates\": [\n",
    "            12.485214279217,\n",
    "            55.66133371957\n",
    "          ]\n",
    "        },\n",
    "        \"properties\": {\n",
    "          \"EnergyLabelClassification\": {\n",
    "            \"value\": \"D\"\n",
    "          },\n",
    "          \"StreetName\": {\n",
    "            \"value\": \"Vigerslevstræde\"\n",
    "          },\n",
    "          \"HouseNumber\": {\n",
    "            \"value\": \"27C\"\n",
    "          },\n",
    "          \"ZipCode\": {\n",
    "            \"value\": \"2500\"\n",
    "          },\n",
    "          \"CityName\": {\n",
    "            \"value\": \"Valby\"\n",
    "          },\n",
    "          \"BBRUseCode\": {\n",
    "            \"label\": \"Type\",\n",
    "            \"value\": \"Række-, kæde-, eller dobbelthus\"\n",
    "          },\n",
    "          \"YearOfConstruction\": {\n",
    "            \"label\": \"Opført\",\n",
    "            \"value\": \"1972\"\n",
    "          },\n",
    "          \"HeatSupply\": {\n",
    "            \"label\": \"Varme\",\n",
    "            \"value\": \"Elektricitet\"\n",
    "          },\n",
    "          \"DEMOLink\": {\n",
    "            \"value\": \"http://sparenergi.dk/forbruger/vaerktoejer/det-digitale-energimaerke#Adresse/Vigerslevstr%C3%A6de%2027C,%202500%20Valby%20(100268531)\"\n",
    "          }\n",
    "        }\n",
    "      }\n",
    "    ]\n",
    "  }\n",
    "}    "
   ]
  },
  {
   "cell_type": "markdown",
   "metadata": {},
   "source": [
    "We can see that there are some very useful pieces of information:\n",
    "- coordinates\n",
    "- EnergyLabelClassification\n",
    "- StreetName\n",
    "- HouseNumber\n",
    "- ZipCode\n",
    "- CityName\n",
    "- YearOfConstruction\n",
    "- HeatSupply\n",
    "\n",
    "We will use these information to first link back to the information regarding solar potential and then apply a data science approach (most probably a form of clustering) to create the overview that we set up to do."
   ]
  },
  {
   "cell_type": "code",
   "execution_count": null,
   "metadata": {},
   "outputs": [],
   "source": []
  }
 ],
 "metadata": {
  "kernelspec": {
   "display_name": "Python 3",
   "language": "python",
   "name": "python3"
  },
  "language_info": {
   "codemirror_mode": {
    "name": "ipython",
    "version": 3
   },
   "file_extension": ".py",
   "mimetype": "text/x-python",
   "name": "python",
   "nbconvert_exporter": "python",
   "pygments_lexer": "ipython3",
   "version": "3.6.7"
  }
 },
 "nbformat": 4,
 "nbformat_minor": 2
}
